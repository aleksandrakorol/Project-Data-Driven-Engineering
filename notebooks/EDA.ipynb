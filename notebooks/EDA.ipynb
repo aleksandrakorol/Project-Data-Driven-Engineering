{
 "cells": [
  {
   "cell_type": "markdown",
   "id": "68661b1a-0435-4005-af32-32135f6e6b01",
   "metadata": {},
   "source": [
    "# Проведение Exploratory Data Analysis (EDA)"
   ]
  },
  {
   "cell_type": "markdown",
   "id": "58ae8f48-38ab-4e16-a7df-7dd539854b91",
   "metadata": {},
   "source": [
    "## 0. ВВЕДЕНИЕ"
   ]
  },
  {
   "cell_type": "markdown",
   "id": "12e9b996-1df4-482e-aaba-ab5d46706b7a",
   "metadata": {},
   "source": [
    "В данном ноутбуке проводится анализ даннных датасета, который содержит информацию о поражениях кожи. \n",
    "В частности, выделяется две основные группы: \n",
    "- болезни рака кожи (базальноклеточная карцинома BCC, плоскоклеточная карцинома MEL, болезнь Боуэна SCC);\n",
    "- кожные заболевания (актинический кератоз ACK, невус NEV, себорейный кератоз SEK).\n",
    "\n",
    "Для анализа будут использованы такие инструменты как:\n",
    "- Pandas (статистический анализ данных)\n",
    "- Matplotlib, Seaborn, Plotly (визуализации)\n",
    "- Pandera (валидация данных)"
   ]
  },
  {
   "cell_type": "code",
   "execution_count": 41,
   "id": "d47eea54-cb4a-4568-96e4-91016ae55115",
   "metadata": {},
   "outputs": [
    {
     "name": "stdout",
     "output_type": "stream",
     "text": [
      "Инструменты успешно импортированы и настройки проведены\n"
     ]
    }
   ],
   "source": [
    "import pandas as pd\n",
    "\n",
    "import matplotlib.pyplot as plt\n",
    "import seaborn as sns\n",
    "import plotly.express as px\n",
    "import plotly.graph_objects as go\n",
    "from plotly.subplots import make_subplots\n",
    "\n",
    "import pandera.pandas as pa\n",
    "from pandera import Column, DataFrameSchema, Check\n",
    "\n",
    "# Добавляем настройки\n",
    "\n",
    "pd.set_option('display.max_column', None)\n",
    "# настроили отображение максимального количества столбцов\n",
    "pd.set_option('display.max_rows', 100)\n",
    "# настроили отображение максимального количества строк\n",
    "\n",
    "print(\"Инструменты успешно импортированы и настройки проведены\")"
   ]
  },
  {
   "cell_type": "markdown",
   "id": "cc965eda-fffb-457b-b46a-a5eafe6bafc4",
   "metadata": {},
   "source": [
    "## 1. Понимание контекста и источников"
   ]
  },
  {
   "cell_type": "markdown",
   "id": "94ef2d60-7598-41aa-a7d3-71fe1c5b4a2e",
   "metadata": {},
   "source": [
    "Источником рассматриваемых данных первоначально является Kaggle:\n",
    "\n",
    "https://www.kaggle.com/datasets/mahdavi1202/skin-cancer\n",
    "\n",
    "Затем GoogleDrive:\n",
    "\n",
    "https://drive.google.com/drive/folders/1HBtpv8kD75_lFkkOiwhrYzz9TcDml_OP?usp=sharing\n",
    "\n",
    "Данные представлены в фомате CSV\n",
    "\n",
    "Производим импорт датасета из GoogleDrive:"
   ]
  },
  {
   "cell_type": "code",
   "execution_count": 42,
   "id": "aa9d35ae-5b55-49e3-8c0f-f3739ea76f28",
   "metadata": {},
   "outputs": [
    {
     "name": "stdout",
     "output_type": "stream",
     "text": [
      "Датасет импортирован успешно\n",
      "Датасет имеет 1468 строк и 26 столбцов.\n"
     ]
    }
   ],
   "source": [
    "File_ID = \"1N7W2_t1fhUJxC2UiDAEkq706xU9LsZ4O\"\n",
    "# File_ID - ID файла (наш dataset) на Google Drive\n",
    "\n",
    "File_url = f\"https://drive.google.com/uc?id={File_ID}\"\n",
    "# File_url - расположение файла\n",
    "\n",
    "raw_data = pd.read_csv(File_url)\n",
    "# читаем файл\n",
    "\n",
    "print(\"Датасет импортирован успешно\")\n",
    "print(f\"Датасет имеет {raw_data.shape[0]} строк и {raw_data.shape[1]} столбцов.\")"
   ]
  },
  {
   "cell_type": "markdown",
   "id": "8b5f0bf1-e7fa-43fb-a0d8-dce3a83878f7",
   "metadata": {},
   "source": [
    "Импорт прошёл успешно, получен датасет из 1468 строк и 26 столбцов."
   ]
  },
  {
   "cell_type": "markdown",
   "id": "c770e3df-6316-44f0-94f1-1e27fd1fc104",
   "metadata": {},
   "source": [
    "## 2. Структурная проверка"
   ]
  },
  {
   "cell_type": "markdown",
   "id": "bf020d4d-a221-4932-befc-bd79eb7b2d48",
   "metadata": {},
   "source": [
    "### Цель: \n",
    "Удостовериться, что даннык можно безопасно загружать и обрабатывать\n",
    "\n",
    "Начнём с проверки структуры:\n",
    "\n",
    "- Проверим наличие всех ожидаемых столбцов (должно быть 26)\n"
   ]
  },
  {
   "cell_type": "code",
   "execution_count": 43,
   "id": "7fe90341-9c86-4109-9a11-68a9a0defc0a",
   "metadata": {},
   "outputs": [
    {
     "name": "stdout",
     "output_type": "stream",
     "text": [
      "Первые 10 строк датасета\n"
     ]
    },
    {
     "data": {
      "text/html": [
       "<div>\n",
       "<style scoped>\n",
       "    .dataframe tbody tr th:only-of-type {\n",
       "        vertical-align: middle;\n",
       "    }\n",
       "\n",
       "    .dataframe tbody tr th {\n",
       "        vertical-align: top;\n",
       "    }\n",
       "\n",
       "    .dataframe thead th {\n",
       "        text-align: right;\n",
       "    }\n",
       "</style>\n",
       "<table border=\"1\" class=\"dataframe\">\n",
       "  <thead>\n",
       "    <tr style=\"text-align: right;\">\n",
       "      <th></th>\n",
       "      <th>patient_id</th>\n",
       "      <th>lesion_id</th>\n",
       "      <th>smoke</th>\n",
       "      <th>drink</th>\n",
       "      <th>background_father</th>\n",
       "      <th>background_mother</th>\n",
       "      <th>age</th>\n",
       "      <th>pesticide</th>\n",
       "      <th>gender</th>\n",
       "      <th>skin_cancer_history</th>\n",
       "      <th>cancer_history</th>\n",
       "      <th>has_piped_water</th>\n",
       "      <th>has_sewage_system</th>\n",
       "      <th>fitspatrick</th>\n",
       "      <th>region</th>\n",
       "      <th>diameter_1</th>\n",
       "      <th>diameter_2</th>\n",
       "      <th>diagnostic</th>\n",
       "      <th>itch</th>\n",
       "      <th>grew</th>\n",
       "      <th>hurt</th>\n",
       "      <th>changed</th>\n",
       "      <th>bleed</th>\n",
       "      <th>elevation</th>\n",
       "      <th>img_id</th>\n",
       "      <th>biopsed</th>\n",
       "    </tr>\n",
       "  </thead>\n",
       "  <tbody>\n",
       "    <tr>\n",
       "      <th>0</th>\n",
       "      <td>PAT_10</td>\n",
       "      <td>18</td>\n",
       "      <td>True</td>\n",
       "      <td>False</td>\n",
       "      <td>GERMANY</td>\n",
       "      <td>GERMANY</td>\n",
       "      <td>69</td>\n",
       "      <td>False</td>\n",
       "      <td>MALE</td>\n",
       "      <td>False</td>\n",
       "      <td>False</td>\n",
       "      <td>True</td>\n",
       "      <td>False</td>\n",
       "      <td>1.0</td>\n",
       "      <td>ARM</td>\n",
       "      <td>13.0</td>\n",
       "      <td>9.0</td>\n",
       "      <td>SCC</td>\n",
       "      <td>TRUE</td>\n",
       "      <td>UNK</td>\n",
       "      <td>FALSE</td>\n",
       "      <td>UNK</td>\n",
       "      <td>FALSE</td>\n",
       "      <td>TRUE</td>\n",
       "      <td>PAT_10_18_830.png</td>\n",
       "      <td>True</td>\n",
       "    </tr>\n",
       "    <tr>\n",
       "      <th>1</th>\n",
       "      <td>PAT_720</td>\n",
       "      <td>1362</td>\n",
       "      <td>False</td>\n",
       "      <td>True</td>\n",
       "      <td>GERMANY</td>\n",
       "      <td>GERMANY</td>\n",
       "      <td>54</td>\n",
       "      <td>False</td>\n",
       "      <td>FEMALE</td>\n",
       "      <td>False</td>\n",
       "      <td>True</td>\n",
       "      <td>True</td>\n",
       "      <td>True</td>\n",
       "      <td>2.0</td>\n",
       "      <td>ARM</td>\n",
       "      <td>11.0</td>\n",
       "      <td>10.0</td>\n",
       "      <td>BCC</td>\n",
       "      <td>FALSE</td>\n",
       "      <td>FALSE</td>\n",
       "      <td>FALSE</td>\n",
       "      <td>FALSE</td>\n",
       "      <td>TRUE</td>\n",
       "      <td>TRUE</td>\n",
       "      <td>PAT_720_1362_700.png</td>\n",
       "      <td>True</td>\n",
       "    </tr>\n",
       "    <tr>\n",
       "      <th>2</th>\n",
       "      <td>PAT_7380</td>\n",
       "      <td>1552</td>\n",
       "      <td>False</td>\n",
       "      <td>False</td>\n",
       "      <td>POMERANIA</td>\n",
       "      <td>POMERANIA</td>\n",
       "      <td>57</td>\n",
       "      <td>True</td>\n",
       "      <td>FEMALE</td>\n",
       "      <td>True</td>\n",
       "      <td>True</td>\n",
       "      <td>False</td>\n",
       "      <td>True</td>\n",
       "      <td>2.0</td>\n",
       "      <td>BACK</td>\n",
       "      <td>3.0</td>\n",
       "      <td>3.0</td>\n",
       "      <td>SEK</td>\n",
       "      <td>TRUE</td>\n",
       "      <td>TRUE</td>\n",
       "      <td>FALSE</td>\n",
       "      <td>FALSE</td>\n",
       "      <td>FALSE</td>\n",
       "      <td>TRUE</td>\n",
       "      <td>PAT_738_1552_502.png</td>\n",
       "      <td>False</td>\n",
       "    </tr>\n",
       "    <tr>\n",
       "      <th>3</th>\n",
       "      <td>PAT_32</td>\n",
       "      <td>44</td>\n",
       "      <td>False</td>\n",
       "      <td>True</td>\n",
       "      <td>POLAND</td>\n",
       "      <td>POLAND</td>\n",
       "      <td>64</td>\n",
       "      <td>False</td>\n",
       "      <td>FEMALE</td>\n",
       "      <td>True</td>\n",
       "      <td>True</td>\n",
       "      <td>True</td>\n",
       "      <td>True</td>\n",
       "      <td>2.0</td>\n",
       "      <td>FACE</td>\n",
       "      <td>7.0</td>\n",
       "      <td>5.0</td>\n",
       "      <td>BCC</td>\n",
       "      <td>FALSE</td>\n",
       "      <td>UNK</td>\n",
       "      <td>FALSE</td>\n",
       "      <td>UNK</td>\n",
       "      <td>FALSE</td>\n",
       "      <td>TRUE</td>\n",
       "      <td>PAT_32_44_211.png</td>\n",
       "      <td>True</td>\n",
       "    </tr>\n",
       "    <tr>\n",
       "      <th>4</th>\n",
       "      <td>PAT_1906</td>\n",
       "      <td>3798</td>\n",
       "      <td>NaN</td>\n",
       "      <td>NaN</td>\n",
       "      <td>NaN</td>\n",
       "      <td>NaN</td>\n",
       "      <td>50</td>\n",
       "      <td>NaN</td>\n",
       "      <td>NaN</td>\n",
       "      <td>NaN</td>\n",
       "      <td>NaN</td>\n",
       "      <td>NaN</td>\n",
       "      <td>NaN</td>\n",
       "      <td>NaN</td>\n",
       "      <td>ARM</td>\n",
       "      <td>NaN</td>\n",
       "      <td>NaN</td>\n",
       "      <td>ACK</td>\n",
       "      <td>TRUE</td>\n",
       "      <td>FALSE</td>\n",
       "      <td>FALSE</td>\n",
       "      <td>FALSE</td>\n",
       "      <td>FALSE</td>\n",
       "      <td>TRUE</td>\n",
       "      <td>PAT_1906_3798_588.png</td>\n",
       "      <td>False</td>\n",
       "    </tr>\n",
       "    <tr>\n",
       "      <th>5</th>\n",
       "      <td>PAT_1161</td>\n",
       "      <td>578</td>\n",
       "      <td>NaN</td>\n",
       "      <td>NaN</td>\n",
       "      <td>NaN</td>\n",
       "      <td>NaN</td>\n",
       "      <td>38</td>\n",
       "      <td>NaN</td>\n",
       "      <td>NaN</td>\n",
       "      <td>NaN</td>\n",
       "      <td>NaN</td>\n",
       "      <td>NaN</td>\n",
       "      <td>NaN</td>\n",
       "      <td>NaN</td>\n",
       "      <td>CHEST</td>\n",
       "      <td>NaN</td>\n",
       "      <td>NaN</td>\n",
       "      <td>NEV</td>\n",
       "      <td>FALSE</td>\n",
       "      <td>TRUE</td>\n",
       "      <td>FALSE</td>\n",
       "      <td>FALSE</td>\n",
       "      <td>FALSE</td>\n",
       "      <td>FALSE</td>\n",
       "      <td>PAT_1161_578_233.png</td>\n",
       "      <td>False</td>\n",
       "    </tr>\n",
       "    <tr>\n",
       "      <th>6</th>\n",
       "      <td>PAT_1064</td>\n",
       "      <td>273</td>\n",
       "      <td>NaN</td>\n",
       "      <td>NaN</td>\n",
       "      <td>NaN</td>\n",
       "      <td>NaN</td>\n",
       "      <td>44</td>\n",
       "      <td>NaN</td>\n",
       "      <td>NaN</td>\n",
       "      <td>NaN</td>\n",
       "      <td>NaN</td>\n",
       "      <td>NaN</td>\n",
       "      <td>NaN</td>\n",
       "      <td>NaN</td>\n",
       "      <td>FOREARM</td>\n",
       "      <td>NaN</td>\n",
       "      <td>NaN</td>\n",
       "      <td>ACK</td>\n",
       "      <td>TRUE</td>\n",
       "      <td>FALSE</td>\n",
       "      <td>FALSE</td>\n",
       "      <td>FALSE</td>\n",
       "      <td>FALSE</td>\n",
       "      <td>FALSE</td>\n",
       "      <td>PAT_1064_273_980.png</td>\n",
       "      <td>False</td>\n",
       "    </tr>\n",
       "    <tr>\n",
       "      <th>7</th>\n",
       "      <td>PAT_1715</td>\n",
       "      <td>3186</td>\n",
       "      <td>NaN</td>\n",
       "      <td>NaN</td>\n",
       "      <td>NaN</td>\n",
       "      <td>NaN</td>\n",
       "      <td>67</td>\n",
       "      <td>NaN</td>\n",
       "      <td>NaN</td>\n",
       "      <td>NaN</td>\n",
       "      <td>NaN</td>\n",
       "      <td>NaN</td>\n",
       "      <td>NaN</td>\n",
       "      <td>NaN</td>\n",
       "      <td>FOREARM</td>\n",
       "      <td>NaN</td>\n",
       "      <td>NaN</td>\n",
       "      <td>ACK</td>\n",
       "      <td>TRUE</td>\n",
       "      <td>FALSE</td>\n",
       "      <td>FALSE</td>\n",
       "      <td>FALSE</td>\n",
       "      <td>FALSE</td>\n",
       "      <td>FALSE</td>\n",
       "      <td>PAT_1715_3186_948.png</td>\n",
       "      <td>False</td>\n",
       "    </tr>\n",
       "    <tr>\n",
       "      <th>8</th>\n",
       "      <td>PAT_1705</td>\n",
       "      <td>3143</td>\n",
       "      <td>NaN</td>\n",
       "      <td>NaN</td>\n",
       "      <td>NaN</td>\n",
       "      <td>NaN</td>\n",
       "      <td>71</td>\n",
       "      <td>NaN</td>\n",
       "      <td>NaN</td>\n",
       "      <td>NaN</td>\n",
       "      <td>NaN</td>\n",
       "      <td>NaN</td>\n",
       "      <td>NaN</td>\n",
       "      <td>NaN</td>\n",
       "      <td>FACE</td>\n",
       "      <td>NaN</td>\n",
       "      <td>NaN</td>\n",
       "      <td>ACK</td>\n",
       "      <td>TRUE</td>\n",
       "      <td>FALSE</td>\n",
       "      <td>FALSE</td>\n",
       "      <td>FALSE</td>\n",
       "      <td>FALSE</td>\n",
       "      <td>FALSE</td>\n",
       "      <td>PAT_1705_3143_139.png</td>\n",
       "      <td>False</td>\n",
       "    </tr>\n",
       "    <tr>\n",
       "      <th>9</th>\n",
       "      <td>PAT_514</td>\n",
       "      <td>967</td>\n",
       "      <td>True</td>\n",
       "      <td>True</td>\n",
       "      <td>GERMANY</td>\n",
       "      <td>GERMANY</td>\n",
       "      <td>64</td>\n",
       "      <td>True</td>\n",
       "      <td>MALE</td>\n",
       "      <td>True</td>\n",
       "      <td>True</td>\n",
       "      <td>True</td>\n",
       "      <td>True</td>\n",
       "      <td>3.0</td>\n",
       "      <td>FACE</td>\n",
       "      <td>10.0</td>\n",
       "      <td>8.0</td>\n",
       "      <td>BCC</td>\n",
       "      <td>TRUE</td>\n",
       "      <td>TRUE</td>\n",
       "      <td>TRUE</td>\n",
       "      <td>FALSE</td>\n",
       "      <td>FALSE</td>\n",
       "      <td>TRUE</td>\n",
       "      <td>PAT_514_967_300.png</td>\n",
       "      <td>True</td>\n",
       "    </tr>\n",
       "  </tbody>\n",
       "</table>\n",
       "</div>"
      ],
      "text/plain": [
       "  patient_id  lesion_id  smoke  drink background_father background_mother  \\\n",
       "0     PAT_10         18   True  False           GERMANY           GERMANY   \n",
       "1    PAT_720       1362  False   True           GERMANY           GERMANY   \n",
       "2   PAT_7380       1552  False  False         POMERANIA         POMERANIA   \n",
       "3     PAT_32         44  False   True            POLAND            POLAND   \n",
       "4   PAT_1906       3798    NaN    NaN               NaN               NaN   \n",
       "5   PAT_1161        578    NaN    NaN               NaN               NaN   \n",
       "6   PAT_1064        273    NaN    NaN               NaN               NaN   \n",
       "7   PAT_1715       3186    NaN    NaN               NaN               NaN   \n",
       "8   PAT_1705       3143    NaN    NaN               NaN               NaN   \n",
       "9    PAT_514        967   True   True           GERMANY           GERMANY   \n",
       "\n",
       "   age pesticide  gender skin_cancer_history cancer_history has_piped_water  \\\n",
       "0   69     False    MALE               False          False            True   \n",
       "1   54     False  FEMALE               False           True            True   \n",
       "2   57      True  FEMALE                True           True           False   \n",
       "3   64     False  FEMALE                True           True            True   \n",
       "4   50       NaN     NaN                 NaN            NaN             NaN   \n",
       "5   38       NaN     NaN                 NaN            NaN             NaN   \n",
       "6   44       NaN     NaN                 NaN            NaN             NaN   \n",
       "7   67       NaN     NaN                 NaN            NaN             NaN   \n",
       "8   71       NaN     NaN                 NaN            NaN             NaN   \n",
       "9   64      True    MALE                True           True            True   \n",
       "\n",
       "  has_sewage_system  fitspatrick   region  diameter_1  diameter_2 diagnostic  \\\n",
       "0             False          1.0      ARM        13.0         9.0        SCC   \n",
       "1              True          2.0      ARM        11.0        10.0        BCC   \n",
       "2              True          2.0     BACK         3.0         3.0        SEK   \n",
       "3              True          2.0     FACE         7.0         5.0        BCC   \n",
       "4               NaN          NaN      ARM         NaN         NaN        ACK   \n",
       "5               NaN          NaN    CHEST         NaN         NaN        NEV   \n",
       "6               NaN          NaN  FOREARM         NaN         NaN        ACK   \n",
       "7               NaN          NaN  FOREARM         NaN         NaN        ACK   \n",
       "8               NaN          NaN     FACE         NaN         NaN        ACK   \n",
       "9              True          3.0     FACE        10.0         8.0        BCC   \n",
       "\n",
       "    itch   grew   hurt changed  bleed elevation                 img_id  \\\n",
       "0   TRUE    UNK  FALSE     UNK  FALSE      TRUE      PAT_10_18_830.png   \n",
       "1  FALSE  FALSE  FALSE   FALSE   TRUE      TRUE   PAT_720_1362_700.png   \n",
       "2   TRUE   TRUE  FALSE   FALSE  FALSE      TRUE   PAT_738_1552_502.png   \n",
       "3  FALSE    UNK  FALSE     UNK  FALSE      TRUE      PAT_32_44_211.png   \n",
       "4   TRUE  FALSE  FALSE   FALSE  FALSE      TRUE  PAT_1906_3798_588.png   \n",
       "5  FALSE   TRUE  FALSE   FALSE  FALSE     FALSE   PAT_1161_578_233.png   \n",
       "6   TRUE  FALSE  FALSE   FALSE  FALSE     FALSE   PAT_1064_273_980.png   \n",
       "7   TRUE  FALSE  FALSE   FALSE  FALSE     FALSE  PAT_1715_3186_948.png   \n",
       "8   TRUE  FALSE  FALSE   FALSE  FALSE     FALSE  PAT_1705_3143_139.png   \n",
       "9   TRUE   TRUE   TRUE   FALSE  FALSE      TRUE    PAT_514_967_300.png   \n",
       "\n",
       "   biopsed  \n",
       "0     True  \n",
       "1     True  \n",
       "2    False  \n",
       "3     True  \n",
       "4    False  \n",
       "5    False  \n",
       "6    False  \n",
       "7    False  \n",
       "8    False  \n",
       "9     True  "
      ]
     },
     "metadata": {},
     "output_type": "display_data"
    },
    {
     "name": "stdout",
     "output_type": "stream",
     "text": [
      "\n",
      "Количество столбцов 26 из 26\n"
     ]
    }
   ],
   "source": [
    "# Выводим первые 10 строк датасета для проверки\n",
    "print(\"Первые 10 строк датасета\")\n",
    "display(raw_data.head(10))\n",
    "\n",
    "print(f\"\\nКоличество столбцов {raw_data.shape[1]} из 26\")"
   ]
  },
  {
   "cell_type": "markdown",
   "id": "787805ec-ceab-47ce-8f6a-ac1c0ea62dbb",
   "metadata": {},
   "source": [
    "- Выведем информацию о датасете"
   ]
  },
  {
   "cell_type": "code",
   "execution_count": 44,
   "id": "d38531a4-0450-4444-b427-4bb9fe77c92b",
   "metadata": {},
   "outputs": [
    {
     "name": "stdout",
     "output_type": "stream",
     "text": [
      "Исходные типы данных в датасете\n",
      "\n",
      "<class 'pandas.core.frame.DataFrame'>\n",
      "RangeIndex: 1468 entries, 0 to 1467\n",
      "Data columns (total 26 columns):\n",
      " #   Column               Non-Null Count  Dtype  \n",
      "---  ------               --------------  -----  \n",
      " 0   patient_id           1468 non-null   object \n",
      " 1   lesion_id            1468 non-null   int64  \n",
      " 2   smoke                872 non-null    object \n",
      " 3   drink                872 non-null    object \n",
      " 4   background_father    869 non-null    object \n",
      " 5   background_mother    867 non-null    object \n",
      " 6   age                  1468 non-null   int64  \n",
      " 7   pesticide            872 non-null    object \n",
      " 8   gender               872 non-null    object \n",
      " 9   skin_cancer_history  872 non-null    object \n",
      " 10  cancer_history       872 non-null    object \n",
      " 11  has_piped_water      872 non-null    object \n",
      " 12  has_sewage_system    872 non-null    object \n",
      " 13  fitspatrick          872 non-null    float64\n",
      " 14  region               1468 non-null   object \n",
      " 15  diameter_1           872 non-null    float64\n",
      " 16  diameter_2           872 non-null    float64\n",
      " 17  diagnostic           1468 non-null   object \n",
      " 18  itch                 1468 non-null   object \n",
      " 19  grew                 1468 non-null   object \n",
      " 20  hurt                 1468 non-null   object \n",
      " 21  changed              1468 non-null   object \n",
      " 22  bleed                1468 non-null   object \n",
      " 23  elevation            1468 non-null   object \n",
      " 24  img_id               1468 non-null   object \n",
      " 25  biopsed              1468 non-null   bool   \n",
      "dtypes: bool(1), float64(3), int64(2), object(20)\n",
      "memory usage: 288.3+ KB\n",
      "None\n"
     ]
    }
   ],
   "source": [
    "print(\"Исходные типы данных в датасете\\n\")\n",
    "print(raw_data.info())"
   ]
  },
  {
   "cell_type": "markdown",
   "id": "4f233b14-6f6f-4688-8cb8-c45c36acb6b6",
   "metadata": {},
   "source": [
    "Сравнив выведенную информацию об исходных типах данных с выведенными первыми 10 строками датасета можно увидеть, что некоторые из типов данных определены некорректно:\n",
    "\n",
    "+ smoke, drink, pesticide, skin_cancer_history, cancer_history, has_piped_water, has_sewage_system необходимо определять как bool\n",
    "\n",
    "+ gender, dianostic, itch, grew, hurt, changed, bleed, elevation необходимо определять как category\n",
    "\n",
    "Остальные типы исходных данных определены правильно.\n",
    "\n",
    "Необходимо скорректировать типы исходных данных, поэтому производим приведение типов:\n"
   ]
  },
  {
   "cell_type": "code",
   "execution_count": 45,
   "id": "46c4a088-508a-491a-bd5f-1164de64d5ff",
   "metadata": {},
   "outputs": [
    {
     "name": "stdout",
     "output_type": "stream",
     "text": [
      "Типы данных после приведения\n",
      "\n",
      "<class 'pandas.core.frame.DataFrame'>\n",
      "RangeIndex: 1468 entries, 0 to 1467\n",
      "Data columns (total 26 columns):\n",
      " #   Column               Non-Null Count  Dtype   \n",
      "---  ------               --------------  -----   \n",
      " 0   patient_id           1468 non-null   object  \n",
      " 1   lesion_id            1468 non-null   int64   \n",
      " 2   smoke                1468 non-null   bool    \n",
      " 3   drink                1468 non-null   bool    \n",
      " 4   background_father    869 non-null    object  \n",
      " 5   background_mother    867 non-null    object  \n",
      " 6   age                  1468 non-null   int64   \n",
      " 7   pesticide            1468 non-null   bool    \n",
      " 8   gender               872 non-null    category\n",
      " 9   skin_cancer_history  1468 non-null   bool    \n",
      " 10  cancer_history       1468 non-null   bool    \n",
      " 11  has_piped_water      1468 non-null   bool    \n",
      " 12  has_sewage_system    1468 non-null   bool    \n",
      " 13  fitspatrick          872 non-null    float64 \n",
      " 14  region               1468 non-null   object  \n",
      " 15  diameter_1           872 non-null    float64 \n",
      " 16  diameter_2           872 non-null    float64 \n",
      " 17  diagnostic           1468 non-null   category\n",
      " 18  itch                 1468 non-null   category\n",
      " 19  grew                 1468 non-null   category\n",
      " 20  hurt                 1468 non-null   category\n",
      " 21  changed              1468 non-null   category\n",
      " 22  bleed                1468 non-null   category\n",
      " 23  elevation            1468 non-null   category\n",
      " 24  img_id               1468 non-null   object  \n",
      " 25  biopsed              1468 non-null   bool    \n",
      "dtypes: bool(8), category(8), float64(3), int64(2), object(5)\n",
      "memory usage: 138.9+ KB\n",
      "None\n"
     ]
    }
   ],
   "source": [
    "# Приведение к типу bool\n",
    "raw_data[\"smoke\"] = raw_data[\"smoke\"].astype(\"bool\")\n",
    "raw_data[\"drink\"] = raw_data[\"drink\"].astype(\"bool\")\n",
    "raw_data[\"pesticide\"] = raw_data[\"pesticide\"].astype(\"bool\")\n",
    "raw_data[\"skin_cancer_history\"] = raw_data[\"skin_cancer_history\"].astype(\"bool\")\n",
    "raw_data[\"cancer_history\"] = raw_data[\"cancer_history\"].astype(\"bool\")\n",
    "raw_data[\"has_piped_water\"] = raw_data[\"has_piped_water\"].astype(\"bool\")\n",
    "raw_data[\"has_sewage_system\"] = raw_data[\"has_sewage_system\"].astype(\"bool\")\n",
    "\n",
    "# Приведение к типу category\n",
    "raw_data[\"gender\"] = raw_data[\"gender\"].astype(\"category\")\n",
    "raw_data[\"diagnostic\"] = raw_data[\"diagnostic\"].astype(\"category\")\n",
    "raw_data[\"itch\"] = raw_data[\"itch\"].astype(\"category\")\n",
    "raw_data[\"grew\"] = raw_data[\"grew\"].astype(\"category\")\n",
    "raw_data[\"hurt\"] = raw_data[\"hurt\"].astype(\"category\")\n",
    "raw_data[\"changed\"] = raw_data[\"changed\"].astype(\"category\")\n",
    "raw_data[\"bleed\"] = raw_data[\"bleed\"].astype(\"category\")\n",
    "raw_data[\"elevation\"] = raw_data[\"elevation\"].astype(\"category\")\n",
    "\n",
    "print(\"Типы данных после приведения\\n\")\n",
    "print(raw_data.info())"
   ]
  },
  {
   "cell_type": "markdown",
   "id": "1872fcd1-4779-4f67-aed9-fbc4b4b42ee4",
   "metadata": {},
   "source": [
    "Теперь создадим схему валидации данных с использованием pandera и проведём валидацию"
   ]
  },
  {
   "cell_type": "code",
   "execution_count": 46,
   "id": "4adbe414-1c01-4fd5-9baa-8d699c67e1a4",
   "metadata": {},
   "outputs": [
    {
     "name": "stdout",
     "output_type": "stream",
     "text": [
      "Схема валидации успешно создана\n",
      "\n",
      "Идёт процесс валидации\n",
      "\n",
      "Валидация прошла успешно!\n"
     ]
    }
   ],
   "source": [
    "# Создание схемы валидации\n",
    "schema = DataFrameSchema(\n",
    "    {\n",
    "        'patient_id': Column(object, nullable=False),\n",
    "        # уникальный идентификатор пациента, не может отсутствовать\n",
    "\n",
    "        'lesion_id': Column(int, checks=Check.greater_than(0), nullable=False),\n",
    "        # идентификатор исследуемого места поражения, не может принимать отрицательные значения и отсутствовать\n",
    "\n",
    "        'smoke': Column(bool, nullable=True),\n",
    "        'drink': Column(bool, nullable=True),\n",
    "        'pesticide': Column(bool, nullable=True),\n",
    "        'skin_cancer_history': Column(bool, nullable=True),\n",
    "        'cancer_history': Column(bool, nullable=True),\n",
    "        'has_piped_water': Column(bool, nullable=True), \n",
    "        'has_sewage_system': Column(bool, nullable=True),\n",
    "        \n",
    "        'itch': Column(pa.Category, checks=Check.isin([\"TRUE\", \"FALSE\", \"UNK\"]), nullable=False), \n",
    "        'grew': Column(pa.Category, checks=Check.isin([\"TRUE\", \"FALSE\", \"UNK\"]), nullable=False), \n",
    "        'hurt': Column(pa.Category, checks=Check.isin([\"TRUE\", \"FALSE\", \"UNK\"]), nullable=False), \n",
    "        'changed': Column(pa.Category, checks=Check.isin([\"TRUE\", \"FALSE\", \"UNK\"]), nullable=False), \n",
    "        'bleed': Column(pa.Category, checks=Check.isin([\"TRUE\", \"FALSE\", \"UNK\"]), nullable=False), \n",
    "        'elevation': Column(pa.Category, checks=Check.isin([\"TRUE\", \"FALSE\", \"UNK\"]), nullable=False), \n",
    "        \n",
    "        'biopsed': Column(bool, nullable=False),\n",
    "        # различные характеристики, показывающие наличие/отсутствие данного фактора у пациента либо не предоставление информации о нем\n",
    "\n",
    "        'background_father': Column(object, nullable=True),\n",
    "        'background_mother': Column(object, nullable=True),\n",
    "        # Информация о родительских болезнях, может отсутствовать\n",
    "\n",
    "        'age': Column(int, checks=Check.greater_than(0), nullable=False),\n",
    "        # Возраст пациента, не может быть отрицательным и отсутствовать\n",
    "\n",
    "        'gender': Column(pa.Category, checks=Check.isin([\"FEMALE\", \"MALE\",\"UNK\"]), nullable=True),\n",
    "        # Информация о поле пациента, может быть не указана\n",
    "\n",
    "        'fitspatrick': Column(float, nullable=True),\n",
    "        # Информация о чувствительности кожи к солнечному свету, может быть неизвестна\n",
    "\n",
    "        'region': Column(object, nullable=False),\n",
    "        # Информация о месте поражения\n",
    "\n",
    "        'diameter_1': Column(float, nullable=True),\n",
    "        'diameter_2': Column(float, nullable=True),\n",
    "        # Информация о диаметре области поражения при первом и втором измерении\n",
    "\n",
    "        'diagnostic': Column(pa.Category, checks=Check.isin([\"BCC\", \"ACK\", \"NEV\", \"SEK\", \"SCC\", \"MEL\"]), nullable=False),\n",
    "        # Информация о диагнозе пациента, не может отсутствовать\n",
    "\n",
    "        'img_id': Column(object, nullable=False),\n",
    "        # Идентификатор изображения пораженного участка кожи, не может отсутствовать\n",
    "\n",
    "    },\n",
    "    # Автоматическое приведение типов\n",
    "    coerce=True\n",
    ")\n",
    "\n",
    "print(\"Схема валидации успешно создана\")\n",
    "\n",
    "# Проведение валидации\n",
    "print(\"\\nИдёт процесс валидации\")\n",
    "\n",
    "try:\n",
    "    schema.validate(raw_data)\n",
    "    print(\"\\nВалидация прошла успешно!\")\n",
    "except pa.errors.SchemaError as exc:\n",
    "    print(f\"\\nВ процессе валидации обнаружено {len(exc.failure_cases)} ошибок\\n\")\n",
    "    print(exc)"
   ]
  },
  {
   "cell_type": "markdown",
   "id": "f15c6e91-ef1d-4a7e-8206-45925eceb1c2",
   "metadata": {},
   "source": [
    "### Выводы:\n",
    "- все ожидаемые 26 столбцов обнаружены\n",
    "- неправильно определенные типы данных приведены к необходимым\n",
    "- валидация по схеме проведена успешна и ошибок не обнаружено\n",
    "\n",
    "####  Данные можно безопасно выгружать и обрабатывать"
   ]
  },
  {
   "cell_type": "markdown",
   "id": "4f98e27a-998b-4843-b113-3ab10d8e8ef0",
   "metadata": {},
   "source": [
    "## 3. Оценка целостности и полноты"
   ]
  },
  {
   "cell_type": "markdown",
   "id": "63b49d0c-6a9f-498d-b587-52aa15c92d51",
   "metadata": {},
   "source": [
    "### Цель:\n",
    "Понять, можно ли считать данные достоверными и полными для выгрузки\n",
    "\n",
    "- Проводим подсчёт доли пропусков по полям"
   ]
  },
  {
   "cell_type": "code",
   "execution_count": 47,
   "id": "7f2698c7-b5de-4674-8c0b-8fe7b614cd86",
   "metadata": {},
   "outputs": [
    {
     "name": "stdout",
     "output_type": "stream",
     "text": [
      "Идёт подсчёт пропусков\n",
      " \n",
      "Данные о пропусках по столбцам\n"
     ]
    },
    {
     "data": {
      "text/html": [
       "<div>\n",
       "<style scoped>\n",
       "    .dataframe tbody tr th:only-of-type {\n",
       "        vertical-align: middle;\n",
       "    }\n",
       "\n",
       "    .dataframe tbody tr th {\n",
       "        vertical-align: top;\n",
       "    }\n",
       "\n",
       "    .dataframe thead th {\n",
       "        text-align: right;\n",
       "    }\n",
       "</style>\n",
       "<table border=\"1\" class=\"dataframe\">\n",
       "  <thead>\n",
       "    <tr style=\"text-align: right;\">\n",
       "      <th></th>\n",
       "      <th>Доля пропусков (%)</th>\n",
       "      <th>Заполнено значениями</th>\n",
       "    </tr>\n",
       "  </thead>\n",
       "  <tbody>\n",
       "    <tr>\n",
       "      <th>background_mother</th>\n",
       "      <td>40.94</td>\n",
       "      <td>867</td>\n",
       "    </tr>\n",
       "    <tr>\n",
       "      <th>background_father</th>\n",
       "      <td>40.80</td>\n",
       "      <td>869</td>\n",
       "    </tr>\n",
       "    <tr>\n",
       "      <th>gender</th>\n",
       "      <td>40.60</td>\n",
       "      <td>872</td>\n",
       "    </tr>\n",
       "    <tr>\n",
       "      <th>diameter_2</th>\n",
       "      <td>40.60</td>\n",
       "      <td>872</td>\n",
       "    </tr>\n",
       "    <tr>\n",
       "      <th>diameter_1</th>\n",
       "      <td>40.60</td>\n",
       "      <td>872</td>\n",
       "    </tr>\n",
       "    <tr>\n",
       "      <th>fitspatrick</th>\n",
       "      <td>40.60</td>\n",
       "      <td>872</td>\n",
       "    </tr>\n",
       "    <tr>\n",
       "      <th>smoke</th>\n",
       "      <td>0.00</td>\n",
       "      <td>1468</td>\n",
       "    </tr>\n",
       "    <tr>\n",
       "      <th>patient_id</th>\n",
       "      <td>0.00</td>\n",
       "      <td>1468</td>\n",
       "    </tr>\n",
       "    <tr>\n",
       "      <th>lesion_id</th>\n",
       "      <td>0.00</td>\n",
       "      <td>1468</td>\n",
       "    </tr>\n",
       "    <tr>\n",
       "      <th>drink</th>\n",
       "      <td>0.00</td>\n",
       "      <td>1468</td>\n",
       "    </tr>\n",
       "    <tr>\n",
       "      <th>skin_cancer_history</th>\n",
       "      <td>0.00</td>\n",
       "      <td>1468</td>\n",
       "    </tr>\n",
       "    <tr>\n",
       "      <th>pesticide</th>\n",
       "      <td>0.00</td>\n",
       "      <td>1468</td>\n",
       "    </tr>\n",
       "    <tr>\n",
       "      <th>age</th>\n",
       "      <td>0.00</td>\n",
       "      <td>1468</td>\n",
       "    </tr>\n",
       "    <tr>\n",
       "      <th>cancer_history</th>\n",
       "      <td>0.00</td>\n",
       "      <td>1468</td>\n",
       "    </tr>\n",
       "    <tr>\n",
       "      <th>has_sewage_system</th>\n",
       "      <td>0.00</td>\n",
       "      <td>1468</td>\n",
       "    </tr>\n",
       "    <tr>\n",
       "      <th>has_piped_water</th>\n",
       "      <td>0.00</td>\n",
       "      <td>1468</td>\n",
       "    </tr>\n",
       "    <tr>\n",
       "      <th>region</th>\n",
       "      <td>0.00</td>\n",
       "      <td>1468</td>\n",
       "    </tr>\n",
       "    <tr>\n",
       "      <th>diagnostic</th>\n",
       "      <td>0.00</td>\n",
       "      <td>1468</td>\n",
       "    </tr>\n",
       "    <tr>\n",
       "      <th>itch</th>\n",
       "      <td>0.00</td>\n",
       "      <td>1468</td>\n",
       "    </tr>\n",
       "    <tr>\n",
       "      <th>grew</th>\n",
       "      <td>0.00</td>\n",
       "      <td>1468</td>\n",
       "    </tr>\n",
       "    <tr>\n",
       "      <th>hurt</th>\n",
       "      <td>0.00</td>\n",
       "      <td>1468</td>\n",
       "    </tr>\n",
       "    <tr>\n",
       "      <th>changed</th>\n",
       "      <td>0.00</td>\n",
       "      <td>1468</td>\n",
       "    </tr>\n",
       "    <tr>\n",
       "      <th>bleed</th>\n",
       "      <td>0.00</td>\n",
       "      <td>1468</td>\n",
       "    </tr>\n",
       "    <tr>\n",
       "      <th>elevation</th>\n",
       "      <td>0.00</td>\n",
       "      <td>1468</td>\n",
       "    </tr>\n",
       "    <tr>\n",
       "      <th>img_id</th>\n",
       "      <td>0.00</td>\n",
       "      <td>1468</td>\n",
       "    </tr>\n",
       "    <tr>\n",
       "      <th>biopsed</th>\n",
       "      <td>0.00</td>\n",
       "      <td>1468</td>\n",
       "    </tr>\n",
       "  </tbody>\n",
       "</table>\n",
       "</div>"
      ],
      "text/plain": [
       "                     Доля пропусков (%)  Заполнено значениями\n",
       "background_mother                 40.94                   867\n",
       "background_father                 40.80                   869\n",
       "gender                            40.60                   872\n",
       "diameter_2                        40.60                   872\n",
       "diameter_1                        40.60                   872\n",
       "fitspatrick                       40.60                   872\n",
       "smoke                              0.00                  1468\n",
       "patient_id                         0.00                  1468\n",
       "lesion_id                          0.00                  1468\n",
       "drink                              0.00                  1468\n",
       "skin_cancer_history                0.00                  1468\n",
       "pesticide                          0.00                  1468\n",
       "age                                0.00                  1468\n",
       "cancer_history                     0.00                  1468\n",
       "has_sewage_system                  0.00                  1468\n",
       "has_piped_water                    0.00                  1468\n",
       "region                             0.00                  1468\n",
       "diagnostic                         0.00                  1468\n",
       "itch                               0.00                  1468\n",
       "grew                               0.00                  1468\n",
       "hurt                               0.00                  1468\n",
       "changed                            0.00                  1468\n",
       "bleed                              0.00                  1468\n",
       "elevation                          0.00                  1468\n",
       "img_id                             0.00                  1468\n",
       "biopsed                            0.00                  1468"
      ]
     },
     "metadata": {},
     "output_type": "display_data"
    }
   ],
   "source": [
    "# Подсчёт доли пропусков\n",
    "missing_values = pd.DataFrame(\n",
    "    {\n",
    "        'Доля пропусков (%)': (raw_data.isna().mean() * 100).round(2),\n",
    "        'Заполнено значениями': raw_data.notna().sum()\n",
    "    }\n",
    ")\n",
    "\n",
    "missing_values = missing_values.sort_values('Доля пропусков (%)', ascending=False)\n",
    "\n",
    "print(\"Идёт подсчёт пропусков\\n \\nДанные о пропусках по столбцам\")\n",
    "display(missing_values)\n",
    "        "
   ]
  },
  {
   "cell_type": "markdown",
   "id": "f4ea46e2-a712-496f-bceb-d500259f577b",
   "metadata": {},
   "source": [
    "Пропуски обнаружены в столбцах: background_mother, background_father, gender, diameter_2, diameter_1, fitspatrick"
   ]
  },
  {
   "cell_type": "markdown",
   "id": "b746b92c-22bd-4ac0-b6ad-24c03d5e7fe4",
   "metadata": {},
   "source": [
    "- Проверяем уникальность записей"
   ]
  },
  {
   "cell_type": "code",
   "execution_count": 48,
   "id": "cbd1be86-41c1-403b-b19d-00f941789005",
   "metadata": {},
   "outputs": [
    {
     "name": "stdout",
     "output_type": "stream",
     "text": [
      "\n",
      "Идёт проверка уникальности записей\n",
      "\n",
      "Общее количество записей: 1468\n",
      "\n",
      "Уникальных записей: 1468\n",
      "\n",
      "Отношение уникальных строк к общему: 1.0000\n",
      "\n",
      "Все записи уникальны!\n"
     ]
    }
   ],
   "source": [
    "# Проверка уникальности записей\n",
    "\n",
    "print(\"\\nИдёт проверка уникальности записей\")\n",
    "print(f\"\\nОбщее количество записей: {raw_data.shape[0]}\")\n",
    "print(f\"\\nУникальных записей: {raw_data.drop_duplicates().shape[0]}\")\n",
    "uniqueness_ratio = raw_data.drop_duplicates().shape[0] / raw_data.shape[0]\n",
    "print(f\"\\nОтношение уникальных строк к общему: {uniqueness_ratio:.4f}\")\n",
    "\n",
    "if uniqueness_ratio < 1:\n",
    "    print(\"\\nНайдены дубликаты записей!\")\n",
    "    duplicated = raw_data[raw_data.duplicated()]\n",
    "    print(f\"\\nКоличество дублирующихся записей: {len(duplicated)}\")\n",
    "    print(\"\\nПримеры дубликатов:\")\n",
    "    display(duplicated.head(10))\n",
    "else:\n",
    "    print(\"\\nВсе записи уникальны!\")"
   ]
  },
  {
   "cell_type": "markdown",
   "id": "e0012718-2c36-4447-bcc1-f3ca3e115d48",
   "metadata": {},
   "source": [
    "- Оцениваем полноту"
   ]
  },
  {
   "cell_type": "code",
   "execution_count": 49,
   "id": "02b9e09a-102e-45ff-aa83-ca9a4aef2daa",
   "metadata": {},
   "outputs": [
    {
     "name": "stdout",
     "output_type": "stream",
     "text": [
      "Идёт проверка полноты данных\n",
      "\n",
      "patient_id             1.000000\n",
      "lesion_id              1.000000\n",
      "smoke                  1.000000\n",
      "drink                  1.000000\n",
      "background_father      0.591962\n",
      "background_mother      0.590599\n",
      "age                    1.000000\n",
      "pesticide              1.000000\n",
      "gender                 0.594005\n",
      "skin_cancer_history    1.000000\n",
      "cancer_history         1.000000\n",
      "has_piped_water        1.000000\n",
      "has_sewage_system      1.000000\n",
      "fitspatrick            0.594005\n",
      "region                 1.000000\n",
      "diameter_1             0.594005\n",
      "diameter_2             0.594005\n",
      "diagnostic             1.000000\n",
      "itch                   1.000000\n",
      "grew                   1.000000\n",
      "hurt                   1.000000\n",
      "changed                1.000000\n",
      "bleed                  1.000000\n",
      "elevation              1.000000\n",
      "img_id                 1.000000\n",
      "biopsed                1.000000\n",
      "dtype: float64\n"
     ]
    },
    {
     "name": "stderr",
     "output_type": "stream",
     "text": [
      "C:\\Users\\Alexandra\\AppData\\Local\\Temp\\ipykernel_9028\\3419513971.py:13: FutureWarning:\n",
      "\n",
      "\n",
      "\n",
      "Passing `palette` without assigning `hue` is deprecated and will be removed in v0.14.0. Assign the `y` variable to `hue` and set `legend=False` for the same effect.\n",
      "\n",
      "\n"
     ]
    },
    {
     "data": {
      "image/png": "[encoded data removed]",
      "text/plain": [
       "<Figure size 1000x1000 with 1 Axes>"
      ]
     },
     "metadata": {},
     "output_type": "display_data"
    },
    {
     "name": "stdout",
     "output_type": "stream",
     "text": [
      "Средняя полнота данных: 0.906\n"
     ]
    }
   ],
   "source": [
    "# Проверка полноты\n",
    "\n",
    "print(\"Идёт проверка полноты данных\\n\")\n",
    "completeness = raw_data.notnull().mean()\n",
    "print(completeness)\n",
    "\n",
    "completeness = 1 - (raw_data.isnull().sum() / len(raw_data))\n",
    "completeness_data = completeness.reset_index()\n",
    "completeness_data.columns = ['column', 'completeness']\n",
    "completeness_data = completeness_data.sort_values(by='completeness', ascending=True)\n",
    "\n",
    "plt.figure(figsize=(10, 10))\n",
    "sns.barplot(\n",
    "    data=completeness_data,\n",
    "    x='completeness',\n",
    "    y='column',\n",
    "    palette='crest'\n",
    ")\n",
    "plt.title(\"Визуализация полноты данных\", fontsize=16, pad=15)\n",
    "plt.xlabel(\"Доля заполненных значений\", fontsize=13)\n",
    "plt.ylabel(\"Признак\", fontsize=13)\n",
    "plt.xticks(fontsize=11)\n",
    "plt.yticks(fontsize=10)\n",
    "plt.tight_layout()\n",
    "plt.show()\n",
    "\n",
    "avg_completeness = completeness.mean()\n",
    "print(f\"Средняя полнота данных: {avg_completeness:.3f}\")\n"
   ]
  },
  {
   "cell_type": "markdown",
   "id": "7a82f271-d21f-432b-8bfd-63255e3bf15f",
   "metadata": {},
   "source": [
    "### Выводы:\n",
    "- Обнаружены столбцы с пропусками: background_mother, background_father, gender, diameter_2, diameter_1, fitspatrick.\n",
    "- Доказана уникальность всех записей, соотвествует необходимому показателю равному \"1\".\n",
    "- Полнота данных составляет 0,906, что является ниже порогового значения 0,98. Таким образом полнота данных не соответствует нормативу.\n",
    "\n",
    "####  Проблемы:\n",
    "Недостаточная полнота данных, большое количество пропусков в столбцах (background_mother, background_father, gender, diameter_2, diameter_1, fitspatrick)\n",
    "\n",
    "####  Рекомендуемые решения для данного датасета:\n",
    "- в столбцах background_mother, background_father, gender, fitspatrick заполнить пропуски значениями UNK(\"неизвестно\"), так как они важны для оценки зависимости от них вида заболевания\n",
    "- столбцы diameter_2, diameter_1 удалить, так как не имеют особой значимости (нет возможности оценить ход течения заболевания по данным признакам, потому как неизвестен период через который были получены значения diameter_2 относительно diameter_1).\n"
   ]
  },
  {
   "cell_type": "markdown",
   "id": "24e06d1a",
   "metadata": {},
   "source": [
    "Заполним пропуски в столбце \"gender\" для рассмотрения полноты данных по основным признакам путем динамической визуализации."
   ]
  },
  {
   "cell_type": "code",
   "execution_count": 51,
   "id": "9754aa77",
   "metadata": {},
   "outputs": [
    {
     "data": {
      "application/vnd.plotly.v1+json": {
       "config": {
        "plotlyServerURL": "https://plot.ly"
       },
       "data": [
        {
         "domain": {
          "x": [
           0,
           0.45
          ],
          "y": [
           0.625,
           1
          ]
         },
         "labels": [
          "ACK",
          "BCC",
          "NEV",
          "SEK",
          "SCC",
          "MEL"
         ],
         "marker": {
          "colors": [
           "#440154",
           "#482878",
           "#3e4989",
           "#31688e",
           "#26828e",
           "#1f9e89",
           "#35b779",
           "#6ece58",
           "#b5de2b",
           "#fde725"
          ]
         },
         "type": "pie",
         "values": [
          500,
          495,
          178,
          153,
          111,
          31
         ]
        },
        {
         "marker": {
          "color": "indigo"
         },
         "type": "histogram",
         "x": {
          "bdata": "Nzo+R0Y5RDRFQjU/PDZLQ0lAQTgzO009MkpPTi9IUC1RJy5TKUwxLCsjIFUlMFIqJigfVCQhFiJYWhURG1ZZGh4ZV1wOWw0XFBwdCgheEBgMEgYJ",
          "dtype": "i1"
         },
         "xaxis": "x",
         "y": {
          "bdata": "LCwqKCcmJiUlJSQjIyMjIiIhIB8fHR0cGhkZGRgXFxcWFRQUEhAQEBAODQwMCwsLCwsKCgoIBwcGBgYGBgYFBQQEBAMDAwMDAwMDAwICAgICAQEB",
          "dtype": "i1"
         },
         "yaxis": "y"
        },
        {
         "marker": {
          "color": [
           "#440154",
           "#482878",
           "#3e4989",
           "#31688e",
           "#26828e",
           "#1f9e89",
           "#35b779",
           "#6ece58",
           "#b5de2b",
           "#fde725"
          ]
         },
         "type": "bar",
         "x": [
          "UNK",
          "FEMALE",
          "MALE"
         ],
         "xaxis": "x2",
         "y": {
          "bdata": "VALJAZ8B",
          "dtype": "i2"
         },
         "yaxis": "y2"
        },
        {
         "marker": {
          "color": "mediumaquamarine"
         },
         "mode": "markers",
         "type": "scatter",
         "x": {
          "bdata": "RTY5QDImLENHQCtUQTIsQDgVQS5AXBo8IydKP1UyPQ0jRCs+TDogNE0+RSpHK1c7J04rMlQ8RkZRSE1NRClbPVBGODVKS0Q2Jks8L0UtNjpEQ0NJPUo6JyFIRTZFSjtTVDYuMT0+PSBMJDI+USxJTQ4qRlFBFC9LRjk6SDFHSSQ6Ti5LU0dIOD8+UzcyGz9QPjJPSy87REwtP0IpQDw/OSYpOzkuLzhFLkk0JkknClE7Oik/NDg1Tz0gSzIzUkhJQT9POUVRVU48MB01PUA1Mz83SVVLS0U8SytANj8aSD06Okw3OkVDNEtBRlMfMykkJVokLDo0RCxCRDY6OAhDVU04OUNFERw+V0A1OCpEQhUzRTBIQjZJXlU9NzYiPzFATk9MJR47PkMoRiBHIkAuFyA1RjhLLTQnXDM3NTtDTz09OjVSQkNPODVFG0M+Pkw+TkEwSCclQDlJRz1NQ0I6XFBEPDlOOSw+PjUzPlAzQjM4NTpIUkNLJyAlSksrRklBTTBWQVMtR0FNNz9APC0tIytNNihQWTJEQVA2TTQtTTRQHCdLODNNPzFAPg5PRRU7NVgxURpCQTo6Sk1BO1FHOzVCQkNHUUhOR0dRPi8zI0dGP1NERUVLTiFFRTwpRExEJz9GMk5FWj1TU0ksRkRLMz88KC9GQDhJTS00P1dAQD1MOT82WjBHWT5CSVo1PExUOUQzPRtJQVBFLUs9QiBOPDcrJUNGQiM1JD4+T0kwOEpOFEAyPDo1QS8RJlM6PUE2NzRNN1EQSDVWJz0jO0BWNFFEKTFSLzoqRyJVRj5DODQ5R0MpST8+SygzKTgoL0Y3I00jRB8rVSw2MThGMjs/VDQyKU9BL1FHFko3QjpFRDUfRj84S0BLJSVeKlE1N0c4JzZNKD5URjwuMzUaSjtJNkQjNEBHLDY3QkEgOU9QNy9HTUofQTNIOiUoTUBKT0dCMzQePjpNMEAtS0lASxktNEQ1Jjk9JkU3JUgnM0JDKzBGOiEkQ081O0NLME8fMzdBMSw4Nk86LjwURiw0IDYhTAo1Mkc0VSovU0pOL1FCQSxAN0M7WUZXKUZJRjsnNkJQEFJDNT9EM0M7MUM1OTQyVT5HVk03Ty5TNzZSPilFOjs2LjhOQE8vSDJLVTJIOjEtSU9QID41Ly40PEYvFk1UNj5ASEEtPjRRQhc/JCctThFFKk4tJxlARi5ER0sjUEJIPCpJRDlHKkRILy8lFiY3NhY9GEM8FTc6O041PzU5SiUuOg09UDpHN0sxQkItMzZPRRY4WD9KPE83Ti4pPkcVNjwMOUYZOU80KU87Ri4zI1smOR8+QkBGITZRST47PENEOEdYJzBBLTkhPk1HPDVJO0EiUUVBTjpFTSxROxciKDJMP042UzZGPDdbPEcvK1lFI0NGS00sUzpEODs3PTdVLTdGOzlAWlBJMUJLOR9GQz4mNDRCNzYzMUEzM0Q5Hko+SzA9KUNPWC5KQ1VSR0w/Qks8KD8fQ1AsNjVKPjg3QDZKQS86TTRTRiMnJzMzG1BIWDdTRjc4KTREOjRCOB9SJ0RQPDk/PDRFNTJCNCoxPD9DPSE6LTU5KTpYSUcuJCtDGy4aQTpMSFNCRDkvNVNSCj4ZLkk5VjdCDTc1Ky8+NE45QjotVjg9RyBKPz9RST0rO1o5QTw0VE5PRUg3Okc1OktERB40EUxHRUUzRhJAOi8tRTI0TEIyMjwrN1BQRUo9WU88OTo9LVRJQi5SIFAMDkNOOUdGJU88O0ZFR1A+N01RPkQ0NElFTjc3RwY0NBxHPkcqQCM2SSIJOjI8MTInHzIWOUsdQjcrUycyNj8+QRUgIVM5NlNBSkM8Pks3P0IkRTkRSRg/TSI4TQgxETtLUUJIRCk5M0o6UEpEMy8WLTc6SUEbSkg4MzcmJDlHN1JJP0odRCg1O1RQQEVGMzxMREtRRCxJTjk3QU44KA==",
          "dtype": "i1"
         },
         "xaxis": "x3",
         "y": [
          "SCC",
          "BCC",
          "SEK",
          "BCC",
          "ACK",
          "NEV",
          "ACK",
          "ACK",
          "ACK",
          "BCC",
          "ACK",
          "SCC",
          "NEV",
          "MEL",
          "ACK",
          "BCC",
          "SEK",
          "NEV",
          "ACK",
          "NEV",
          "SEK",
          "SCC",
          "NEV",
          "ACK",
          "NEV",
          "SCC",
          "BCC",
          "BCC",
          "BCC",
          "ACK",
          "BCC",
          "NEV",
          "NEV",
          "NEV",
          "MEL",
          "SCC",
          "BCC",
          "ACK",
          "NEV",
          "ACK",
          "BCC",
          "SEK",
          "SCC",
          "ACK",
          "MEL",
          "BCC",
          "BCC",
          "ACK",
          "ACK",
          "ACK",
          "BCC",
          "BCC",
          "SEK",
          "BCC",
          "ACK",
          "BCC",
          "ACK",
          "BCC",
          "SCC",
          "BCC",
          "SEK",
          "ACK",
          "SCC",
          "ACK",
          "ACK",
          "BCC",
          "BCC",
          "NEV",
          "ACK",
          "BCC",
          "SEK",
          "BCC",
          "BCC",
          "BCC",
          "ACK",
          "SEK",
          "SEK",
          "ACK",
          "BCC",
          "SEK",
          "ACK",
          "SEK",
          "SCC",
          "BCC",
          "BCC",
          "ACK",
          "MEL",
          "NEV",
          "BCC",
          "SCC",
          "SCC",
          "BCC",
          "SEK",
          "BCC",
          "ACK",
          "ACK",
          "SEK",
          "BCC",
          "ACK",
          "BCC",
          "BCC",
          "SEK",
          "ACK",
          "SEK",
          "BCC",
          "NEV",
          "BCC",
          "BCC",
          "BCC",
          "BCC",
          "ACK",
          "ACK",
          "NEV",
          "BCC",
          "SCC",
          "SEK",
          "ACK",
          "NEV",
          "BCC",
          "BCC",
          "BCC",
          "ACK",
          "BCC",
          "ACK",
          "SEK",
          "ACK",
          "ACK",
          "NEV",
          "SCC",
          "BCC",
          "BCC",
          "SCC",
          "BCC",
          "ACK",
          "ACK",
          "BCC",
          "SCC",
          "SEK",
          "BCC",
          "ACK",
          "ACK",
          "NEV",
          "BCC",
          "BCC",
          "SCC",
          "BCC",
          "BCC",
          "ACK",
          "ACK",
          "BCC",
          "ACK",
          "SCC",
          "ACK",
          "BCC",
          "SEK",
          "NEV",
          "ACK",
          "SCC",
          "ACK",
          "ACK",
          "ACK",
          "ACK",
          "NEV",
          "SEK",
          "BCC",
          "ACK",
          "ACK",
          "SCC",
          "BCC",
          "SEK",
          "BCC",
          "NEV",
          "ACK",
          "ACK",
          "NEV",
          "ACK",
          "ACK",
          "BCC",
          "MEL",
          "BCC",
          "ACK",
          "MEL",
          "SCC",
          "ACK",
          "BCC",
          "NEV",
          "MEL",
          "MEL",
          "ACK",
          "MEL",
          "BCC",
          "BCC",
          "BCC",
          "SEK",
          "SCC",
          "ACK",
          "ACK",
          "SCC",
          "SCC",
          "BCC",
          "ACK",
          "BCC",
          "NEV",
          "ACK",
          "BCC",
          "BCC",
          "BCC",
          "BCC",
          "SEK",
          "ACK",
          "BCC",
          "BCC",
          "BCC",
          "BCC",
          "ACK",
          "ACK",
          "BCC",
          "NEV",
          "SCC",
          "BCC",
          "ACK",
          "NEV",
          "BCC",
          "ACK",
          "BCC",
          "ACK",
          "SEK",
          "ACK",
          "ACK",
          "ACK",
          "ACK",
          "ACK",
          "BCC",
          "SEK",
          "BCC",
          "ACK",
          "BCC",
          "BCC",
          "NEV",
          "BCC",
          "NEV",
          "ACK",
          "NEV",
          "BCC",
          "ACK",
          "ACK",
          "ACK",
          "BCC",
          "ACK",
          "BCC",
          "ACK",
          "BCC",
          "ACK",
          "NEV",
          "BCC",
          "BCC",
          "BCC",
          "NEV",
          "BCC",
          "ACK",
          "ACK",
          "NEV",
          "NEV",
          "ACK",
          "ACK",
          "ACK",
          "ACK",
          "SEK",
          "NEV",
          "SEK",
          "ACK",
          "NEV",
          "SEK",
          "ACK",
          "BCC",
          "SEK",
          "BCC",
          "ACK",
          "SCC",
          "SCC",
          "BCC",
          "ACK",
          "ACK",
          "NEV",
          "ACK",
          "ACK",
          "ACK",
          "ACK",
          "SEK",
          "SEK",
          "SCC",
          "NEV",
          "NEV",
          "SEK",
          "SEK",
          "ACK",
          "NEV",
          "SEK",
          "NEV",
          "BCC",
          "NEV",
          "BCC",
          "SCC",
          "NEV",
          "NEV",
          "NEV",
          "SEK",
          "BCC",
          "ACK",
          "BCC",
          "SEK",
          "BCC",
          "SCC",
          "BCC",
          "BCC",
          "BCC",
          "BCC",
          "BCC",
          "BCC",
          "BCC",
          "BCC",
          "SCC",
          "SEK",
          "SEK",
          "SEK",
          "ACK",
          "SCC",
          "BCC",
          "ACK",
          "ACK",
          "NEV",
          "SEK",
          "BCC",
          "ACK",
          "SCC",
          "ACK",
          "BCC",
          "SEK",
          "ACK",
          "BCC",
          "NEV",
          "ACK",
          "ACK",
          "ACK",
          "SEK",
          "BCC",
          "MEL",
          "SCC",
          "BCC",
          "ACK",
          "BCC",
          "ACK",
          "ACK",
          "ACK",
          "ACK",
          "BCC",
          "BCC",
          "MEL",
          "ACK",
          "NEV",
          "BCC",
          "ACK",
          "ACK",
          "ACK",
          "BCC",
          "NEV",
          "ACK",
          "BCC",
          "ACK",
          "SEK",
          "ACK",
          "BCC",
          "ACK",
          "MEL",
          "SEK",
          "NEV",
          "NEV",
          "BCC",
          "BCC",
          "ACK",
          "BCC",
          "ACK",
          "ACK",
          "BCC",
          "BCC",
          "SEK",
          "BCC",
          "BCC",
          "SCC",
          "ACK",
          "BCC",
          "ACK",
          "ACK",
          "NEV",
          "ACK",
          "BCC",
          "ACK",
          "ACK",
          "ACK",
          "NEV",
          "BCC",
          "ACK",
          "NEV",
          "ACK",
          "ACK",
          "ACK",
          "NEV",
          "SEK",
          "ACK",
          "BCC",
          "ACK",
          "ACK",
          "ACK",
          "ACK",
          "BCC",
          "BCC",
          "BCC",
          "NEV",
          "NEV",
          "SCC",
          "BCC",
          "NEV",
          "SEK",
          "BCC",
          "SEK",
          "ACK",
          "ACK",
          "NEV",
          "ACK",
          "BCC",
          "SEK",
          "NEV",
          "ACK",
          "SCC",
          "BCC",
          "ACK",
          "BCC",
          "BCC",
          "SCC",
          "MEL",
          "ACK",
          "ACK",
          "BCC",
          "SCC",
          "SCC",
          "ACK",
          "BCC",
          "ACK",
          "NEV",
          "ACK",
          "MEL",
          "BCC",
          "ACK",
          "ACK",
          "SEK",
          "SEK",
          "ACK",
          "BCC",
          "BCC",
          "BCC",
          "BCC",
          "ACK",
          "ACK",
          "BCC",
          "MEL",
          "BCC",
          "SCC",
          "SEK",
          "ACK",
          "SEK",
          "SEK",
          "ACK",
          "NEV",
          "SCC",
          "BCC",
          "ACK",
          "SCC",
          "BCC",
          "SEK",
          "ACK",
          "ACK",
          "SEK",
          "SCC",
          "ACK",
          "BCC",
          "SCC",
          "SCC",
          "ACK",
          "BCC",
          "SCC",
          "SEK",
          "ACK",
          "BCC",
          "BCC",
          "SEK",
          "ACK",
          "SCC",
          "SEK",
          "BCC",
          "ACK",
          "ACK",
          "BCC",
          "BCC",
          "BCC",
          "BCC",
          "ACK",
          "SEK",
          "BCC",
          "BCC",
          "BCC",
          "BCC",
          "BCC",
          "ACK",
          "BCC",
          "ACK",
          "BCC",
          "SCC",
          "ACK",
          "MEL",
          "ACK",
          "BCC",
          "NEV",
          "SCC",
          "BCC",
          "BCC",
          "BCC",
          "ACK",
          "BCC",
          "ACK",
          "ACK",
          "BCC",
          "ACK",
          "NEV",
          "BCC",
          "BCC",
          "ACK",
          "BCC",
          "BCC",
          "ACK",
          "SCC",
          "BCC",
          "NEV",
          "ACK",
          "BCC",
          "BCC",
          "SEK",
          "ACK",
          "ACK",
          "ACK",
          "SEK",
          "BCC",
          "ACK",
          "SEK",
          "ACK",
          "ACK",
          "ACK",
          "BCC",
          "ACK",
          "ACK",
          "BCC",
          "SEK",
          "ACK",
          "ACK",
          "ACK",
          "ACK",
          "MEL",
          "ACK",
          "SEK",
          "ACK",
          "NEV",
          "BCC",
          "ACK",
          "BCC",
          "ACK",
          "ACK",
          "ACK",
          "ACK",
          "NEV",
          "BCC",
          "BCC",
          "ACK",
          "NEV",
          "ACK",
          "BCC",
          "BCC",
          "ACK",
          "BCC",
          "NEV",
          "SCC",
          "SEK",
          "BCC",
          "ACK",
          "BCC",
          "ACK",
          "ACK",
          "ACK",
          "ACK",
          "BCC",
          "MEL",
          "SEK",
          "ACK",
          "NEV",
          "BCC",
          "BCC",
          "SCC",
          "SEK",
          "BCC",
          "ACK",
          "SCC",
          "BCC",
          "SEK",
          "ACK",
          "ACK",
          "ACK",
          "BCC",
          "BCC",
          "ACK",
          "ACK",
          "ACK",
          "NEV",
          "NEV",
          "ACK",
          "SEK",
          "SCC",
          "NEV",
          "BCC",
          "NEV",
          "BCC",
          "NEV",
          "ACK",
          "SCC",
          "BCC",
          "ACK",
          "MEL",
          "BCC",
          "ACK",
          "NEV",
          "BCC",
          "BCC",
          "BCC",
          "SEK",
          "BCC",
          "SEK",
          "SEK",
          "MEL",
          "BCC",
          "SCC",
          "SEK",
          "NEV",
          "ACK",
          "BCC",
          "BCC",
          "BCC",
          "ACK",
          "SCC",
          "BCC",
          "NEV",
          "ACK",
          "MEL",
          "BCC",
          "ACK",
          "BCC",
          "ACK",
          "ACK",
          "BCC",
          "BCC",
          "BCC",
          "NEV",
          "SEK",
          "BCC",
          "BCC",
          "SCC",
          "ACK",
          "MEL",
          "ACK",
          "ACK",
          "BCC",
          "BCC",
          "BCC",
          "ACK",
          "BCC",
          "BCC",
          "ACK",
          "NEV",
          "ACK",
          "SEK",
          "ACK",
          "ACK",
          "ACK",
          "NEV",
          "SEK",
          "BCC",
          "ACK",
          "ACK",
          "ACK",
          "ACK",
          "BCC",
          "BCC",
          "NEV",
          "SEK",
          "SCC",
          "BCC",
          "BCC",
          "ACK",
          "ACK",
          "ACK",
          "ACK",
          "NEV",
          "SEK",
          "BCC",
          "SCC",
          "ACK",
          "ACK",
          "ACK",
          "BCC",
          "ACK",
          "BCC",
          "BCC",
          "BCC",
          "ACK",
          "SCC",
          "ACK",
          "MEL",
          "BCC",
          "NEV",
          "SEK",
          "BCC",
          "SEK",
          "SEK",
          "ACK",
          "ACK",
          "BCC",
          "ACK",
          "NEV",
          "ACK",
          "BCC",
          "ACK",
          "SEK",
          "SEK",
          "SEK",
          "SEK",
          "ACK",
          "BCC",
          "BCC",
          "NEV",
          "BCC",
          "NEV",
          "ACK",
          "ACK",
          "SEK",
          "NEV",
          "NEV",
          "ACK",
          "BCC",
          "NEV",
          "NEV",
          "SCC",
          "ACK",
          "BCC",
          "ACK",
          "BCC",
          "ACK",
          "BCC",
          "ACK",
          "BCC",
          "NEV",
          "ACK",
          "BCC",
          "BCC",
          "NEV",
          "BCC",
          "BCC",
          "ACK",
          "ACK",
          "NEV",
          "ACK",
          "NEV",
          "ACK",
          "ACK",
          "BCC",
          "NEV",
          "NEV",
          "ACK",
          "ACK",
          "NEV",
          "BCC",
          "NEV",
          "SCC",
          "BCC",
          "BCC",
          "ACK",
          "NEV",
          "SEK",
          "SEK",
          "BCC",
          "BCC",
          "BCC",
          "SCC",
          "SEK",
          "NEV",
          "BCC",
          "ACK",
          "SEK",
          "ACK",
          "BCC",
          "ACK",
          "ACK",
          "BCC",
          "SEK",
          "BCC",
          "BCC",
          "BCC",
          "BCC",
          "NEV",
          "NEV",
          "BCC",
          "NEV",
          "ACK",
          "ACK",
          "ACK",
          "BCC",
          "BCC",
          "BCC",
          "SEK",
          "BCC",
          "BCC",
          "BCC",
          "SEK",
          "BCC",
          "BCC",
          "SEK",
          "BCC",
          "ACK",
          "ACK",
          "SEK",
          "SCC",
          "ACK",
          "SCC",
          "ACK",
          "SEK",
          "ACK",
          "SEK",
          "BCC",
          "SEK",
          "BCC",
          "ACK",
          "BCC",
          "ACK",
          "ACK",
          "BCC",
          "NEV",
          "MEL",
          "BCC",
          "ACK",
          "ACK",
          "BCC",
          "ACK",
          "BCC",
          "BCC",
          "NEV",
          "ACK",
          "BCC",
          "NEV",
          "SEK",
          "BCC",
          "BCC",
          "ACK",
          "BCC",
          "BCC",
          "BCC",
          "ACK",
          "ACK",
          "SEK",
          "BCC",
          "SEK",
          "ACK",
          "NEV",
          "SEK",
          "BCC",
          "BCC",
          "BCC",
          "ACK",
          "ACK",
          "BCC",
          "SCC",
          "ACK",
          "BCC",
          "ACK",
          "ACK",
          "NEV",
          "BCC",
          "NEV",
          "ACK",
          "ACK",
          "BCC",
          "NEV",
          "ACK",
          "ACK",
          "BCC",
          "NEV",
          "NEV",
          "NEV",
          "SEK",
          "BCC",
          "BCC",
          "SEK",
          "BCC",
          "BCC",
          "NEV",
          "SCC",
          "ACK",
          "SEK",
          "BCC",
          "ACK",
          "ACK",
          "BCC",
          "SCC",
          "SCC",
          "BCC",
          "BCC",
          "ACK",
          "ACK",
          "NEV",
          "BCC",
          "NEV",
          "BCC",
          "SEK",
          "SEK",
          "BCC",
          "NEV",
          "NEV",
          "BCC",
          "BCC",
          "NEV",
          "BCC",
          "NEV",
          "ACK",
          "ACK",
          "BCC",
          "ACK",
          "ACK",
          "ACK",
          "BCC",
          "NEV",
          "SCC",
          "ACK",
          "NEV",
          "BCC",
          "SCC",
          "ACK",
          "ACK",
          "ACK",
          "ACK",
          "ACK",
          "ACK",
          "BCC",
          "ACK",
          "BCC",
          "ACK",
          "SCC",
          "BCC",
          "NEV",
          "BCC",
          "SCC",
          "ACK",
          "BCC",
          "BCC",
          "SCC",
          "MEL",
          "BCC",
          "SEK",
          "ACK",
          "BCC",
          "ACK",
          "NEV",
          "SCC",
          "NEV",
          "NEV",
          "BCC",
          "ACK",
          "NEV",
          "ACK",
          "BCC",
          "NEV",
          "ACK",
          "BCC",
          "SEK",
          "BCC",
          "ACK",
          "BCC",
          "ACK",
          "BCC",
          "SEK",
          "BCC",
          "NEV",
          "ACK",
          "SCC",
          "BCC",
          "ACK",
          "NEV",
          "ACK",
          "SEK",
          "BCC",
          "BCC",
          "ACK",
          "ACK",
          "BCC",
          "ACK",
          "ACK",
          "SEK",
          "SEK",
          "BCC",
          "ACK",
          "ACK",
          "ACK",
          "ACK",
          "ACK",
          "ACK",
          "ACK",
          "BCC",
          "ACK",
          "BCC",
          "ACK",
          "BCC",
          "ACK",
          "ACK",
          "SCC",
          "ACK",
          "SCC",
          "ACK",
          "BCC",
          "ACK",
          "ACK",
          "BCC",
          "BCC",
          "BCC",
          "NEV",
          "BCC",
          "BCC",
          "ACK",
          "BCC",
          "ACK",
          "ACK",
          "BCC",
          "BCC",
          "ACK",
          "BCC",
          "BCC",
          "ACK",
          "BCC",
          "ACK",
          "ACK",
          "BCC",
          "SCC",
          "SEK",
          "ACK",
          "ACK",
          "ACK",
          "ACK",
          "ACK",
          "SCC",
          "BCC",
          "BCC",
          "BCC",
          "BCC",
          "NEV",
          "SEK",
          "SEK",
          "SCC",
          "BCC",
          "SCC",
          "BCC",
          "BCC",
          "SCC",
          "ACK",
          "SEK",
          "BCC",
          "SCC",
          "BCC",
          "SEK",
          "BCC",
          "ACK",
          "BCC",
          "SCC",
          "NEV",
          "MEL",
          "ACK",
          "BCC",
          "NEV",
          "ACK",
          "SEK",
          "ACK",
          "BCC",
          "ACK",
          "ACK",
          "BCC",
          "ACK",
          "ACK",
          "NEV",
          "ACK",
          "BCC",
          "NEV",
          "ACK",
          "SCC",
          "BCC",
          "ACK",
          "SEK",
          "NEV",
          "SCC",
          "ACK",
          "BCC",
          "ACK",
          "BCC",
          "SEK",
          "BCC",
          "SEK",
          "BCC",
          "ACK",
          "ACK",
          "BCC",
          "SEK",
          "ACK",
          "ACK",
          "ACK",
          "NEV",
          "ACK",
          "BCC",
          "NEV",
          "BCC",
          "BCC",
          "BCC",
          "BCC",
          "BCC",
          "ACK",
          "BCC",
          "BCC",
          "BCC",
          "SEK",
          "BCC",
          "BCC",
          "ACK",
          "NEV",
          "ACK",
          "SCC",
          "BCC",
          "ACK",
          "ACK",
          "BCC",
          "ACK",
          "NEV",
          "ACK",
          "ACK",
          "ACK",
          "NEV",
          "ACK",
          "BCC",
          "SEK",
          "ACK",
          "NEV",
          "BCC",
          "SCC",
          "BCC",
          "BCC",
          "SCC",
          "BCC",
          "ACK",
          "ACK",
          "SEK",
          "ACK",
          "BCC",
          "BCC",
          "NEV",
          "BCC",
          "SEK",
          "BCC",
          "ACK",
          "BCC",
          "ACK",
          "BCC",
          "BCC",
          "BCC",
          "BCC",
          "BCC",
          "SCC",
          "ACK",
          "BCC",
          "ACK",
          "ACK",
          "MEL",
          "SEK",
          "SEK",
          "BCC",
          "SCC",
          "BCC",
          "ACK",
          "BCC",
          "ACK",
          "NEV",
          "NEV",
          "ACK",
          "NEV",
          "ACK",
          "NEV",
          "BCC",
          "BCC",
          "SEK",
          "BCC",
          "SEK",
          "ACK",
          "ACK",
          "ACK",
          "ACK",
          "BCC",
          "BCC",
          "BCC",
          "NEV",
          "ACK",
          "NEV",
          "ACK",
          "BCC",
          "ACK",
          "SEK",
          "SCC",
          "BCC",
          "NEV",
          "ACK",
          "MEL",
          "BCC",
          "BCC",
          "ACK",
          "ACK",
          "SEK",
          "ACK",
          "SCC",
          "ACK",
          "BCC",
          "ACK",
          "BCC",
          "BCC",
          "ACK",
          "SCC",
          "BCC",
          "ACK",
          "ACK",
          "SCC",
          "ACK",
          "ACK",
          "ACK",
          "ACK",
          "SEK",
          "ACK",
          "SCC",
          "ACK",
          "ACK",
          "BCC",
          "ACK",
          "BCC",
          "ACK",
          "SEK",
          "ACK",
          "BCC",
          "BCC",
          "BCC",
          "BCC",
          "SCC",
          "ACK",
          "ACK",
          "BCC",
          "SEK",
          "NEV",
          "BCC",
          "SCC",
          "ACK",
          "ACK",
          "ACK",
          "BCC",
          "NEV",
          "BCC",
          "SEK",
          "ACK",
          "SCC",
          "SEK",
          "SCC",
          "BCC",
          "SEK",
          "BCC",
          "SEK",
          "ACK",
          "ACK",
          "BCC",
          "ACK",
          "SEK",
          "ACK",
          "BCC",
          "BCC",
          "ACK",
          "BCC",
          "BCC",
          "BCC",
          "ACK",
          "SCC",
          "SEK",
          "ACK",
          "SCC",
          "SEK",
          "BCC",
          "ACK",
          "ACK",
          "NEV",
          "BCC",
          "NEV",
          "NEV",
          "ACK",
          "SEK",
          "ACK",
          "BCC",
          "ACK",
          "NEV",
          "ACK",
          "BCC",
          "BCC",
          "BCC",
          "SEK",
          "ACK",
          "ACK",
          "BCC",
          "BCC",
          "ACK",
          "BCC",
          "SEK",
          "ACK",
          "ACK",
          "ACK",
          "SCC",
          "ACK",
          "ACK",
          "BCC",
          "ACK",
          "BCC",
          "NEV",
          "BCC",
          "ACK",
          "NEV",
          "ACK",
          "ACK",
          "BCC",
          "NEV",
          "ACK",
          "NEV",
          "MEL",
          "BCC",
          "NEV",
          "NEV",
          "BCC",
          "BCC",
          "BCC",
          "BCC",
          "ACK",
          "BCC",
          "NEV",
          "BCC",
          "NEV",
          "BCC",
          "BCC",
          "NEV",
          "ACK",
          "BCC",
          "SCC",
          "BCC",
          "SEK",
          "ACK",
          "BCC",
          "BCC",
          "ACK",
          "ACK",
          "MEL",
          "BCC",
          "BCC",
          "ACK",
          "BCC",
          "ACK",
          "BCC",
          "SEK",
          "SEK",
          "BCC",
          "ACK",
          "ACK",
          "ACK",
          "ACK",
          "BCC",
          "SCC",
          "BCC",
          "BCC",
          "BCC",
          "NEV",
          "ACK",
          "NEV",
          "BCC",
          "ACK",
          "NEV",
          "BCC",
          "SCC",
          "NEV",
          "NEV",
          "NEV",
          "BCC",
          "ACK",
          "BCC",
          "NEV",
          "BCC",
          "SEK",
          "NEV",
          "ACK",
          "BCC",
          "SEK",
          "ACK",
          "ACK",
          "ACK",
          "ACK",
          "ACK",
          "ACK",
          "BCC",
          "ACK",
          "BCC",
          "BCC",
          "BCC",
          "ACK",
          "NEV",
          "BCC",
          "ACK",
          "NEV",
          "BCC",
          "BCC",
          "NEV",
          "ACK",
          "ACK",
          "BCC",
          "NEV",
          "SCC",
          "ACK",
          "ACK",
          "ACK",
          "NEV",
          "ACK",
          "ACK",
          "BCC",
          "SEK",
          "BCC",
          "ACK",
          "ACK",
          "BCC",
          "BCC",
          "BCC",
          "ACK",
          "ACK",
          "SCC",
          "SCC",
          "BCC",
          "MEL",
          "ACK",
          "ACK",
          "BCC",
          "BCC",
          "ACK",
          "BCC",
          "BCC",
          "BCC",
          "BCC"
         ],
         "yaxis": "y3"
        }
       ],
       "layout": {
        "annotations": [
         {
          "font": {
           "size": 16
          },
          "showarrow": false,
          "text": "Распределение по виду кожных поражений",
          "x": 0.225,
          "xanchor": "center",
          "xref": "paper",
          "y": 1,
          "yanchor": "bottom",
          "yref": "paper"
         },
         {
          "font": {
           "size": 16
          },
          "showarrow": false,
          "text": "Распределение по возрасту",
          "x": 0.775,
          "xanchor": "center",
          "xref": "paper",
          "y": 1,
          "yanchor": "bottom",
          "yref": "paper"
         },
         {
          "font": {
           "size": 16
          },
          "showarrow": false,
          "text": "Распределение по полу",
          "x": 0.225,
          "xanchor": "center",
          "xref": "paper",
          "y": 0.375,
          "yanchor": "bottom",
          "yref": "paper"
         },
         {
          "font": {
           "size": 16
          },
          "showarrow": false,
          "text": "Зависимость вида поражения кожи от возраста",
          "x": 0.775,
          "xanchor": "center",
          "xref": "paper",
          "y": 0.375,
          "yanchor": "bottom",
          "yref": "paper"
         }
        ],
        "height": 800,
        "template": {
         "data": {
          "bar": [
           {
            "error_x": {
             "color": "#2a3f5f"
            },
            "error_y": {
             "color": "#2a3f5f"
            },
            "marker": {
             "line": {
              "color": "#E5ECF6",
              "width": 0.5
             },
             "pattern": {
              "fillmode": "overlay",
              "size": 10,
              "solidity": 0.2
             }
            },
            "type": "bar"
           }
          ],
          "barpolar": [
           {
            "marker": {
             "line": {
              "color": "#E5ECF6",
              "width": 0.5
             },
             "pattern": {
              "fillmode": "overlay",
              "size": 10,
              "solidity": 0.2
             }
            },
            "type": "barpolar"
           }
          ],
          "carpet": [
           {
            "aaxis": {
             "endlinecolor": "#2a3f5f",
             "gridcolor": "white",
             "linecolor": "white",
             "minorgridcolor": "white",
             "startlinecolor": "#2a3f5f"
            },
            "baxis": {
             "endlinecolor": "#2a3f5f",
             "gridcolor": "white",
             "linecolor": "white",
             "minorgridcolor": "white",
             "startlinecolor": "#2a3f5f"
            },
            "type": "carpet"
           }
          ],
          "choropleth": [
           {
            "colorbar": {
             "outlinewidth": 0,
             "ticks": ""
            },
            "type": "choropleth"
           }
          ],
          "contour": [
           {
            "colorbar": {
             "outlinewidth": 0,
             "ticks": ""
            },
            "colorscale": [
             [
              0,
              "#0d0887"
             ],
             [
              0.1111111111111111,
              "#46039f"
             ],
             [
              0.2222222222222222,
              "#7201a8"
             ],
             [
              0.3333333333333333,
              "#9c179e"
             ],
             [
              0.4444444444444444,
              "#bd3786"
             ],
             [
              0.5555555555555556,
              "#d8576b"
             ],
             [
              0.6666666666666666,
              "#ed7953"
             ],
             [
              0.7777777777777778,
              "#fb9f3a"
             ],
             [
              0.8888888888888888,
              "#fdca26"
             ],
             [
              1,
              "#f0f921"
             ]
            ],
            "type": "contour"
           }
          ],
          "contourcarpet": [
           {
            "colorbar": {
             "outlinewidth": 0,
             "ticks": ""
            },
            "type": "contourcarpet"
           }
          ],
          "heatmap": [
           {
            "colorbar": {
             "outlinewidth": 0,
             "ticks": ""
            },
            "colorscale": [
             [
              0,
              "#0d0887"
             ],
             [
              0.1111111111111111,
              "#46039f"
             ],
             [
              0.2222222222222222,
              "#7201a8"
             ],
             [
              0.3333333333333333,
              "#9c179e"
             ],
             [
              0.4444444444444444,
              "#bd3786"
             ],
             [
              0.5555555555555556,
              "#d8576b"
             ],
             [
              0.6666666666666666,
              "#ed7953"
             ],
             [
              0.7777777777777778,
              "#fb9f3a"
             ],
             [
              0.8888888888888888,
              "#fdca26"
             ],
             [
              1,
              "#f0f921"
             ]
            ],
            "type": "heatmap"
           }
          ],
          "histogram": [
           {
            "marker": {
             "pattern": {
              "fillmode": "overlay",
              "size": 10,
              "solidity": 0.2
             }
            },
            "type": "histogram"
           }
          ],
          "histogram2d": [
           {
            "colorbar": {
             "outlinewidth": 0,
             "ticks": ""
            },
            "colorscale": [
             [
              0,
              "#0d0887"
             ],
             [
              0.1111111111111111,
              "#46039f"
             ],
             [
              0.2222222222222222,
              "#7201a8"
             ],
             [
              0.3333333333333333,
              "#9c179e"
             ],
             [
              0.4444444444444444,
              "#bd3786"
             ],
             [
              0.5555555555555556,
              "#d8576b"
             ],
             [
              0.6666666666666666,
              "#ed7953"
             ],
             [
              0.7777777777777778,
              "#fb9f3a"
             ],
             [
              0.8888888888888888,
              "#fdca26"
             ],
             [
              1,
              "#f0f921"
             ]
            ],
            "type": "histogram2d"
           }
          ],
          "histogram2dcontour": [
           {
            "colorbar": {
             "outlinewidth": 0,
             "ticks": ""
            },
            "colorscale": [
             [
              0,
              "#0d0887"
             ],
             [
              0.1111111111111111,
              "#46039f"
             ],
             [
              0.2222222222222222,
              "#7201a8"
             ],
             [
              0.3333333333333333,
              "#9c179e"
             ],
             [
              0.4444444444444444,
              "#bd3786"
             ],
             [
              0.5555555555555556,
              "#d8576b"
             ],
             [
              0.6666666666666666,
              "#ed7953"
             ],
             [
              0.7777777777777778,
              "#fb9f3a"
             ],
             [
              0.8888888888888888,
              "#fdca26"
             ],
             [
              1,
              "#f0f921"
             ]
            ],
            "type": "histogram2dcontour"
           }
          ],
          "mesh3d": [
           {
            "colorbar": {
             "outlinewidth": 0,
             "ticks": ""
            },
            "type": "mesh3d"
           }
          ],
          "parcoords": [
           {
            "line": {
             "colorbar": {
              "outlinewidth": 0,
              "ticks": ""
             }
            },
            "type": "parcoords"
           }
          ],
          "pie": [
           {
            "automargin": true,
            "type": "pie"
           }
          ],
          "scatter": [
           {
            "fillpattern": {
             "fillmode": "overlay",
             "size": 10,
             "solidity": 0.2
            },
            "type": "scatter"
           }
          ],
          "scatter3d": [
           {
            "line": {
             "colorbar": {
              "outlinewidth": 0,
              "ticks": ""
             }
            },
            "marker": {
             "colorbar": {
              "outlinewidth": 0,
              "ticks": ""
             }
            },
            "type": "scatter3d"
           }
          ],
          "scattercarpet": [
           {
            "marker": {
             "colorbar": {
              "outlinewidth": 0,
              "ticks": ""
             }
            },
            "type": "scattercarpet"
           }
          ],
          "scattergeo": [
           {
            "marker": {
             "colorbar": {
              "outlinewidth": 0,
              "ticks": ""
             }
            },
            "type": "scattergeo"
           }
          ],
          "scattergl": [
           {
            "marker": {
             "colorbar": {
              "outlinewidth": 0,
              "ticks": ""
             }
            },
            "type": "scattergl"
           }
          ],
          "scattermap": [
           {
            "marker": {
             "colorbar": {
              "outlinewidth": 0,
              "ticks": ""
             }
            },
            "type": "scattermap"
           }
          ],
          "scattermapbox": [
           {
            "marker": {
             "colorbar": {
              "outlinewidth": 0,
              "ticks": ""
             }
            },
            "type": "scattermapbox"
           }
          ],
          "scatterpolar": [
           {
            "marker": {
             "colorbar": {
              "outlinewidth": 0,
              "ticks": ""
             }
            },
            "type": "scatterpolar"
           }
          ],
          "scatterpolargl": [
           {
            "marker": {
             "colorbar": {
              "outlinewidth": 0,
              "ticks": ""
             }
            },
            "type": "scatterpolargl"
           }
          ],
          "scatterternary": [
           {
            "marker": {
             "colorbar": {
              "outlinewidth": 0,
              "ticks": ""
             }
            },
            "type": "scatterternary"
           }
          ],
          "surface": [
           {
            "colorbar": {
             "outlinewidth": 0,
             "ticks": ""
            },
            "colorscale": [
             [
              0,
              "#0d0887"
             ],
             [
              0.1111111111111111,
              "#46039f"
             ],
             [
              0.2222222222222222,
              "#7201a8"
             ],
             [
              0.3333333333333333,
              "#9c179e"
             ],
             [
              0.4444444444444444,
              "#bd3786"
             ],
             [
              0.5555555555555556,
              "#d8576b"
             ],
             [
              0.6666666666666666,
              "#ed7953"
             ],
             [
              0.7777777777777778,
              "#fb9f3a"
             ],
             [
              0.8888888888888888,
              "#fdca26"
             ],
             [
              1,
              "#f0f921"
             ]
            ],
            "type": "surface"
           }
          ],
          "table": [
           {
            "cells": {
             "fill": {
              "color": "#EBF0F8"
             },
             "line": {
              "color": "white"
             }
            },
            "header": {
             "fill": {
              "color": "#C8D4E3"
             },
             "line": {
              "color": "white"
             }
            },
            "type": "table"
           }
          ]
         },
         "layout": {
          "annotationdefaults": {
           "arrowcolor": "#2a3f5f",
           "arrowhead": 0,
           "arrowwidth": 1
          },
          "autotypenumbers": "strict",
          "coloraxis": {
           "colorbar": {
            "outlinewidth": 0,
            "ticks": ""
           }
          },
          "colorscale": {
           "diverging": [
            [
             0,
             "#8e0152"
            ],
            [
             0.1,
             "#c51b7d"
            ],
            [
             0.2,
             "#de77ae"
            ],
            [
             0.3,
             "#f1b6da"
            ],
            [
             0.4,
             "#fde0ef"
            ],
            [
             0.5,
             "#f7f7f7"
            ],
            [
             0.6,
             "#e6f5d0"
            ],
            [
             0.7,
             "#b8e186"
            ],
            [
             0.8,
             "#7fbc41"
            ],
            [
             0.9,
             "#4d9221"
            ],
            [
             1,
             "#276419"
            ]
           ],
           "sequential": [
            [
             0,
             "#0d0887"
            ],
            [
             0.1111111111111111,
             "#46039f"
            ],
            [
             0.2222222222222222,
             "#7201a8"
            ],
            [
             0.3333333333333333,
             "#9c179e"
            ],
            [
             0.4444444444444444,
             "#bd3786"
            ],
            [
             0.5555555555555556,
             "#d8576b"
            ],
            [
             0.6666666666666666,
             "#ed7953"
            ],
            [
             0.7777777777777778,
             "#fb9f3a"
            ],
            [
             0.8888888888888888,
             "#fdca26"
            ],
            [
             1,
             "#f0f921"
            ]
           ],
           "sequentialminus": [
            [
             0,
             "#0d0887"
            ],
            [
             0.1111111111111111,
             "#46039f"
            ],
            [
             0.2222222222222222,
             "#7201a8"
            ],
            [
             0.3333333333333333,
             "#9c179e"
            ],
            [
             0.4444444444444444,
             "#bd3786"
            ],
            [
             0.5555555555555556,
             "#d8576b"
            ],
            [
             0.6666666666666666,
             "#ed7953"
            ],
            [
             0.7777777777777778,
             "#fb9f3a"
            ],
            [
             0.8888888888888888,
             "#fdca26"
            ],
            [
             1,
             "#f0f921"
            ]
           ]
          },
          "colorway": [
           "#636efa",
           "#EF553B",
           "#00cc96",
           "#ab63fa",
           "#FFA15A",
           "#19d3f3",
           "#FF6692",
           "#B6E880",
           "#FF97FF",
           "#FECB52"
          ],
          "font": {
           "color": "#2a3f5f"
          },
          "geo": {
           "bgcolor": "white",
           "lakecolor": "white",
           "landcolor": "#E5ECF6",
           "showlakes": true,
           "showland": true,
           "subunitcolor": "white"
          },
          "hoverlabel": {
           "align": "left"
          },
          "hovermode": "closest",
          "mapbox": {
           "style": "light"
          },
          "paper_bgcolor": "white",
          "plot_bgcolor": "#E5ECF6",
          "polar": {
           "angularaxis": {
            "gridcolor": "white",
            "linecolor": "white",
            "ticks": ""
           },
           "bgcolor": "#E5ECF6",
           "radialaxis": {
            "gridcolor": "white",
            "linecolor": "white",
            "ticks": ""
           }
          },
          "scene": {
           "xaxis": {
            "backgroundcolor": "#E5ECF6",
            "gridcolor": "white",
            "gridwidth": 2,
            "linecolor": "white",
            "showbackground": true,
            "ticks": "",
            "zerolinecolor": "white"
           },
           "yaxis": {
            "backgroundcolor": "#E5ECF6",
            "gridcolor": "white",
            "gridwidth": 2,
            "linecolor": "white",
            "showbackground": true,
            "ticks": "",
            "zerolinecolor": "white"
           },
           "zaxis": {
            "backgroundcolor": "#E5ECF6",
            "gridcolor": "white",
            "gridwidth": 2,
            "linecolor": "white",
            "showbackground": true,
            "ticks": "",
            "zerolinecolor": "white"
           }
          },
          "shapedefaults": {
           "line": {
            "color": "#2a3f5f"
           }
          },
          "ternary": {
           "aaxis": {
            "gridcolor": "white",
            "linecolor": "white",
            "ticks": ""
           },
           "baxis": {
            "gridcolor": "white",
            "linecolor": "white",
            "ticks": ""
           },
           "bgcolor": "#E5ECF6",
           "caxis": {
            "gridcolor": "white",
            "linecolor": "white",
            "ticks": ""
           }
          },
          "title": {
           "x": 0.05
          },
          "xaxis": {
           "automargin": true,
           "gridcolor": "white",
           "linecolor": "white",
           "ticks": "",
           "title": {
            "standoff": 15
           },
           "zerolinecolor": "white",
           "zerolinewidth": 2
          },
          "yaxis": {
           "automargin": true,
           "gridcolor": "white",
           "linecolor": "white",
           "ticks": "",
           "title": {
            "standoff": 15
           },
           "zerolinecolor": "white",
           "zerolinewidth": 2
          }
         }
        },
        "xaxis": {
         "anchor": "y",
         "domain": [
          0.55,
          1
         ],
         "title": {
          "text": "Возраст"
         }
        },
        "xaxis2": {
         "anchor": "y2",
         "domain": [
          0,
          0.45
         ]
        },
        "xaxis3": {
         "anchor": "y3",
         "domain": [
          0.55,
          1
         ],
         "title": {
          "text": "Возраст"
         }
        },
        "yaxis": {
         "anchor": "x",
         "domain": [
          0.625,
          1
         ],
         "title": {
          "text": "Количество"
         }
        },
        "yaxis2": {
         "anchor": "x2",
         "domain": [
          0,
          0.375
         ],
         "title": {
          "text": "Количество"
         }
        },
        "yaxis3": {
         "anchor": "x3",
         "domain": [
          0,
          0.375
         ]
        }
       }
      }
     },
     "metadata": {},
     "output_type": "display_data"
    }
   ],
   "source": [
    "# Добавление динамической визуализации\n",
    "\n",
    "\n",
    "fig = make_subplots(rows=2, cols=2,\n",
    "                    specs=[[{\"type\": \"domain\"}, {\"type\": \"xy\"}],\n",
    "                           [{\"type\": \"xy\"}, {\"type\": \"xy\"}]],\n",
    "                    subplot_titles=(\n",
    "                        \"Распределение по виду кожных поражений\",\n",
    "                        \"Распределение по возрасту\",\n",
    "                        \"Распределение по полу\",\n",
    "                        \"Зависимость вида поражения кожи от возраста\"\n",
    "                    )\n",
    ")\n",
    "\n",
    "diagnostic = raw_data['diagnostic'].value_counts()\n",
    "fig.add_trace(\n",
    "    go.Pie(\n",
    "        labels=diagnostic.index.tolist(),\n",
    "        values=diagnostic.values.tolist(),\n",
    "        marker=dict(colors=px.colors.sequential.Viridis)\n",
    "        ),\n",
    "    row=1, col=1\n",
    ")\n",
    "\n",
    "age = raw_data['age'].value_counts()\n",
    "fig.add_trace(\n",
    "    go.Histogram(\n",
    "        x=age.index,\n",
    "        y=age.values,\n",
    "        marker_color='indigo'\n",
    "        ),\n",
    "    row=1, col=2\n",
    ")\n",
    "\n",
    "data_without_nan = raw_data['gender'].cat.add_categories(\"UNK\").fillna(\"UNK\")\n",
    "gender = data_without_nan.value_counts()\n",
    "fig.add_trace(\n",
    "    go.Bar(\n",
    "        x=gender.index,\n",
    "        y=gender.values,\n",
    "        marker_color=px.colors.sequential.Viridis\n",
    "        ),\n",
    "    row=2, col=1\n",
    ")\n",
    "\n",
    "fig.add_trace(\n",
    "    go.Scatter(\n",
    "        x=raw_data['age'],\n",
    "        y=raw_data['diagnostic'],\n",
    "        mode='markers',\n",
    "        marker=dict(color='mediumaquamarine')\n",
    "        ),\n",
    "    row=2, col=2\n",
    ")\n",
    "\n",
    "fig.update_xaxes(title_text=\"Возраст\", row=1, col=2)\n",
    "fig.update_xaxes(title_text=\"Возраст\", row=2, col=2)\n",
    "fig.update_yaxes(title_text=\"Количество\", row=1, col=2)\n",
    "fig.update_yaxes(title_text=\"Количество\", row=2, col=1)\n",
    "fig.update_layout(height=800)\n",
    "\n",
    "fig.show()"
   ]
  },
  {
   "cell_type": "markdown",
   "id": "b5f725a4",
   "metadata": {},
   "source": [
    "#### Заключение по полученным графикам:\n",
    "1. Наблюдается преобладание пациентов с двумя кожными поражениями, такими как актинический кератоз(ACK) и базальноклеточная карцинома(BCC), каждое из которых относится к одной из двух рассматриваемых групп (кожные заболевания и болезни рака кожи).\n",
    "  Таким образом можно сделать вывод о том, что оценка влияния различных признаков на людей с данными поражениями будет наиболлее достоверной, а также можно сказать о том, что было рассмотрено примерно равное количество пациентов с кожные заболеваниями и болезнями рака кожи.\n",
    "2. Распределение пациентов по возрасту равномерно в промежутке от 20 до 89 лет. Однако встречаются и пациенты младше 20 и старше 89, что не является выбросом или аномалией, так как возраст человека может быть от 0 и до 120(максимально зарегистрированный рекорд). \n",
    "  Согласно полученному распределению наиболее достоверная оценка будет достигнута при рассмотре людей от 20 до 89 лет.\n",
    "3. При построении распределения количества наблюдений от возраста можно увидеть, что у довольно большого количества пациентов он неизвестен.\n",
    "  В связи с чем мы не сможем точно оценить зависимость заболевания от пола пациента.\n",
    "4. Зависимость вида поражения кожи от возраста показывает, что для большинства заболеваний преобладает возрастной помежуток от 50 до 80 лет. Исключение составляет невус(NEV), к нему более склонны люди от 20 до 60. Наиболее однородное и схожее распределение по возрасту(от 30 до 91) имеют те поражения кожи, данные по которым встречаются в большем количестве."
   ]
  },
  {
   "cell_type": "markdown",
   "id": "ec8f4a2a-14a0-4aa3-85cd-feb76fefbc31",
   "metadata": {},
   "source": [
    "## 4. Поиск выбросов и аномалий"
   ]
  },
  {
   "cell_type": "markdown",
   "id": "f481005a-6dc3-442a-9252-bb0abdb5fb60",
   "metadata": {},
   "source": [
    "### Цель:\n",
    "Выявление экстремальных значений, влияющих на качество анализа\n",
    "\n",
    "- Определяем долю аномальных значений в числовых признаках с помощью метода IQR"
   ]
  },
  {
   "cell_type": "code",
   "execution_count": 39,
   "id": "b328019e-571f-493f-ba01-43d869854027",
   "metadata": {},
   "outputs": [
    {
     "name": "stdout",
     "output_type": "stream",
     "text": [
      "Идёт поиск выбросов и аномалий методом IQR\n",
      "\n",
      "             ratio_outliers\n",
      "diameter_2         0.039510\n",
      "diameter_1         0.023842\n",
      "age                0.016349\n",
      "fitspatrick        0.006131\n"
     ]
    },
    {
     "data": {
      "image/png": "[encoded data removed]",
      "text/plain": [
       "<Figure size 1200x600 with 1 Axes>"
      ]
     },
     "metadata": {},
     "output_type": "display_data"
    },
    {
     "name": "stdout",
     "output_type": "stream",
     "text": [
      "\n",
      "Средняя доля выбросов: 0.021\n"
     ]
    }
   ],
   "source": [
    "# Поиск выбросов и аномалий\n",
    "\n",
    "print(\"Идёт поиск выбросов и аномалий методом IQR\\n\")\n",
    "\n",
    "numeric_sign = raw_data.loc[:, ['age', 'diameter_1', 'diameter_2', 'fitspatrick']]\n",
    "ratio_outliers = {}\n",
    "\n",
    "for col in numeric_sign.columns:\n",
    "    Q1 = numeric_sign[col].quantile(0.25)\n",
    "    Q3 = numeric_sign[col].quantile(0.75)\n",
    "    IQR = Q3 - Q1\n",
    "    lower, upper = Q1 - 1.5 * IQR, Q3 + 1.5 * IQR\n",
    "    outliers = ((numeric_sign[col] < lower) | (numeric_sign[col] > upper)).sum()\n",
    "    ratio_outliers[col] = outliers / len(raw_data)\n",
    "\n",
    "outlier_data = pd.DataFrame.from_dict(ratio_outliers, orient='index', columns=['ratio_outliers']).sort_values(by='ratio_outliers', ascending=False)\n",
    "print(outlier_data.head(10))\n",
    "\n",
    "top_outlier_cols = outlier_data.head(4).index\n",
    "\n",
    "plt.figure(figsize=(12,6))\n",
    "raw_data[top_outlier_cols].boxplot()\n",
    "plt.title(\"Выбросы по числовым признакам\", fontsize=15, pad=10)\n",
    "plt.xticks(rotation=45, fontsize=11)\n",
    "plt.yticks(fontsize=11)\n",
    "plt.tight_layout()\n",
    "plt.show()\n",
    "\n",
    "avg_ratio_outliers = outlier_data['ratio_outliers'].mean()\n",
    "print(f\"\\nСредняя доля выбросов: {avg_ratio_outliers:.3f}\")\n",
    "\n"
   ]
  },
  {
   "cell_type": "markdown",
   "id": "867eaf5e-6e71-4b1b-b81c-b695abbd2c9c",
   "metadata": {},
   "source": [
    "### Выводы:\n",
    "Доля выбросов составляет 0,021, что превышает пороговое значение равное 0,020. Таким образом доля выбросов несильно, но тем не менее не соответствует нормативу.\n",
    "Наибольшую долю аномальных значений равную 0.039510 имеет столбец diametr_2, что может свидетельствовать о реалистичности полученных значений, так как область поражения может иметь совершенно разные размеры и требуется экспертная оценка данного вопроса."
   ]
  },
  {
   "cell_type": "markdown",
   "id": "35079d33-a37f-4030-93c6-a6cea7c06c80",
   "metadata": {},
   "source": [
    "## 5. Метрики качества данных"
   ]
  },
  {
   "cell_type": "markdown",
   "id": "cd9f6956-dcb4-4fc6-8e7e-f62bc12dc637",
   "metadata": {},
   "source": [
    "#### Цель:\n",
    "\n",
    "Получение информации о качестве данных путем их оценки метриками:\n",
    "- Completeness - полнота данных (≥ 0.98)\n",
    "- Uniqueness - уникальность записей (= 1.0)\n",
    "- Outlier Ratio - доля выбросов (≤ 0.02)"
   ]
  },
  {
   "cell_type": "code",
   "execution_count": 40,
   "id": "fa7504e2-a8b0-459c-87c5-0e425e7bb400",
   "metadata": {},
   "outputs": [
    {
     "name": "stdout",
     "output_type": "stream",
     "text": [
      "Идёт вывод метрик качества данных!\n",
      "\n",
      "Таблица метрик качества данных\n",
      "\n"
     ]
    },
    {
     "data": {
      "text/html": [
       "<div>\n",
       "<style scoped>\n",
       "    .dataframe tbody tr th:only-of-type {\n",
       "        vertical-align: middle;\n",
       "    }\n",
       "\n",
       "    .dataframe tbody tr th {\n",
       "        vertical-align: top;\n",
       "    }\n",
       "\n",
       "    .dataframe thead th {\n",
       "        text-align: right;\n",
       "    }\n",
       "</style>\n",
       "<table border=\"1\" class=\"dataframe\">\n",
       "  <thead>\n",
       "    <tr style=\"text-align: right;\">\n",
       "      <th></th>\n",
       "      <th>Метрика</th>\n",
       "      <th>Значение</th>\n",
       "      <th>Порог</th>\n",
       "      <th>Статус</th>\n",
       "    </tr>\n",
       "  </thead>\n",
       "  <tbody>\n",
       "    <tr>\n",
       "      <th>0</th>\n",
       "      <td>Completeness</td>\n",
       "      <td>0.906099</td>\n",
       "      <td>0.98</td>\n",
       "      <td>SOS!</td>\n",
       "    </tr>\n",
       "    <tr>\n",
       "      <th>1</th>\n",
       "      <td>Uniqueness</td>\n",
       "      <td>1.000000</td>\n",
       "      <td>1.00</td>\n",
       "      <td>OK</td>\n",
       "    </tr>\n",
       "    <tr>\n",
       "      <th>2</th>\n",
       "      <td>Outlier Ratio</td>\n",
       "      <td>0.021458</td>\n",
       "      <td>0.02</td>\n",
       "      <td>SOS!</td>\n",
       "    </tr>\n",
       "  </tbody>\n",
       "</table>\n",
       "</div>"
      ],
      "text/plain": [
       "         Метрика  Значение  Порог Статус\n",
       "0   Completeness  0.906099   0.98   SOS!\n",
       "1     Uniqueness  1.000000   1.00     OK\n",
       "2  Outlier Ratio  0.021458   0.02   SOS!"
      ]
     },
     "metadata": {},
     "output_type": "display_data"
    },
    {
     "name": "stdout",
     "output_type": "stream",
     "text": [
      "Общая оценка качества данных: 33.3%\n",
      "Пройдено метрик: 1 из 3\n"
     ]
    }
   ],
   "source": [
    "# Оценка качества по метрикам\n",
    "print(\"Идёт вывод метрик качества данных!\\n\")\n",
    "print(\"Таблица метрик качества данных\\n\")\n",
    "\n",
    "metrics = {}\n",
    "\n",
    "metrics['Completeness'] = {\n",
    "    'value': avg_completeness,\n",
    "    'threshold': 0.98,\n",
    "    'status': 'OK' if avg_completeness >= 0.98 else 'SOS!'\n",
    "}\n",
    "\n",
    "metrics['Uniqueness'] = {\n",
    "    'value': uniqueness_ratio,\n",
    "    'threshold': 1.0,\n",
    "    'status': 'OK' if uniqueness_ratio == 1.0 else 'SOS!'\n",
    "}\n",
    "\n",
    "metrics['Outlier Ratio'] = {\n",
    "    'value': avg_ratio_outliers,\n",
    "    'threshold': 0.02,\n",
    "    'status': 'OK' if avg_ratio_outliers <= 0.02 else 'SOS!'\n",
    "}\n",
    "\n",
    "metrics_df = pd.DataFrame({\n",
    "    'Метрика': list(metrics.keys()),\n",
    "    'Значение': [m['value'] for m in metrics.values()],\n",
    "    'Порог': [m['threshold'] for m in metrics.values()],\n",
    "    'Статус': [m['status'] for m in metrics.values()]\n",
    "})\n",
    "\n",
    "display(metrics_df)\n",
    "\n",
    "# Общая оценка качества\n",
    "passed_metrics = sum([1 for m in metrics.values() if m['status'] == 'OK'])\n",
    "total_metrics = len(metrics)\n",
    "quality_score = passed_metrics / total_metrics\n",
    "\n",
    "print(f\"Общая оценка качества данных: {quality_score*100:.1f}%\")\n",
    "print(f\"Пройдено метрик: {passed_metrics} из {total_metrics}\")"
   ]
  },
  {
   "cell_type": "markdown",
   "id": "30e9c901-05c6-43f9-b23f-7ecfa2bdbf09",
   "metadata": {},
   "source": [
    "# ИТОГ\n",
    "\n",
    "Проведён Exploratory Data Analysis (EDA) датасета кожных заболеваний, имеющего 1468 строк и 26 столбцов.\n",
    "\n",
    "Общее качество данных датасета составило 33,3%, что является довольно низким показателем.\n",
    "\n",
    "Его основными проблемами являются:\n",
    "1. недостаточная полнота\n",
    "2. превышение порога доли выбросов\n",
    "\n",
    "Предлагается решить их следущими образами:\n",
    "1. Недостаточную полноту можно повысить заполнением пропущенных значений или удалением столбцов в каждом конкретном случае\n",
    "2. Провести экспертную оценку выбросов областей поражения кожных покровов"
   ]
  }
 ],
 "metadata": {
  "kernelspec": {
   "display_name": "dde_my_env",
   "language": "python",
   "name": "python3"
  },
  "language_info": {
   "codemirror_mode": {
    "name": "ipython",
    "version": 3
   },
   "file_extension": ".py",
   "mimetype": "text/x-python",
   "name": "python",
   "nbconvert_exporter": "python",
   "pygments_lexer": "ipython3",
   "version": "3.13.7"
  }
 },
 "nbformat": 4,
 "nbformat_minor": 5
}
