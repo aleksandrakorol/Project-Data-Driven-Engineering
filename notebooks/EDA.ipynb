{
 "cells": [
  {
   "cell_type": "markdown",
   "id": "68661b1a-0435-4005-af32-32135f6e6b01",
   "metadata": {},
   "source": [
    "# Проведение Exploratory Data Analysis (EDA)"
   ]
  },
  {
   "cell_type": "markdown",
   "id": "58ae8f48-38ab-4e16-a7df-7dd539854b91",
   "metadata": {},
   "source": [
    "## 0. ВВЕДЕНИЕ"
   ]
  },
  {
   "cell_type": "markdown",
   "id": "12e9b996-1df4-482e-aaba-ab5d46706b7a",
   "metadata": {},
   "source": [
    "В данном ноутбуке проводится анализ даннных датасета, который содержит информацию о поражениях кожи. \n",
    "В частности, выделяется две основные группы: \n",
    "- болезни рака кожи (базальноклеточная карцинома BCC, плоскоклеточная карцинома или болезнь Боуэна SCC);\n",
    "- кожные заболевания (актинический кератоз ACK, невус NEV, себорейный кератоз SEK).\n",
    "\n",
    "Датасет имеет данные о 1373 пациентах и 26 признаков.\n",
    "\n",
    "Для анализа будут использованы такие инструменты как:\n",
    "- Pandas (статистический анализ данных)\n",
    "- Matplotlib (построение графиков)\n",
    "- Pandera (валидация данных)"
   ]
  },
  {
   "cell_type": "code",
   "execution_count": 1,
   "id": "d47eea54-cb4a-4568-96e4-91016ae55115",
   "metadata": {},
   "outputs": [
    {
     "name": "stdout",
     "output_type": "stream",
     "text": [
      "Инструменты успешно импортированы и настройки проведены\n"
     ]
    }
   ],
   "source": [
    "import pandas as pd\n",
    "import matplotlib.pyplot as plt\n",
    "import pandera.pandas as pa\n",
    "from pandera import Column, DataFrameSchema, Check\n",
    "\n",
    "# Добавляем настройки\n",
    "\n",
    "pd.set_option('display.max_column', None)\n",
    "# настроили отображение максимального количества столбцов\n",
    "pd.set_option('display.max_rows', 100)\n",
    "# настроили отображение максимального количества строк\n",
    "\n",
    "print(\"Инструменты успешно импортированы и настройки проведены\")"
   ]
  },
  {
   "cell_type": "code",
   "execution_count": null,
   "id": "69d9405d-7646-4e3b-b04c-ae1833bf3dda",
   "metadata": {},
   "outputs": [],
   "source": []
  }
 ],
 "metadata": {
  "kernelspec": {
   "display_name": "Python 3 (ipykernel)",
   "language": "python",
   "name": "python3"
  },
  "language_info": {
   "codemirror_mode": {
    "name": "ipython",
    "version": 3
   },
   "file_extension": ".py",
   "mimetype": "text/x-python",
   "name": "python",
   "nbconvert_exporter": "python",
   "pygments_lexer": "ipython3",
   "version": "3.13.7"
  }
 },
 "nbformat": 4,
 "nbformat_minor": 5
}
